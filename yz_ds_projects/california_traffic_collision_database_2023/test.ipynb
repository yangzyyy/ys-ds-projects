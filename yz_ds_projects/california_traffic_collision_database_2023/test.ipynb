{
 "cells": [
  {
   "cell_type": "code",
   "execution_count": 1,
   "id": "7d6f4e02",
   "metadata": {},
   "outputs": [],
   "source": [
    "import os\n",
    "import pandas as pd"
   ]
  },
  {
   "cell_type": "code",
   "execution_count": 4,
   "id": "9f8c21c9",
   "metadata": {},
   "outputs": [],
   "source": [
    "ROOT_PATH = os.path.dirname(os.path.realpath('__file__'))\n",
    "DATA_PATH = os.path.join(ROOT_PATH, 'data')\n",
    "TYPE_LIST = ['CollisionRecords', 'PartyRecords', 'VictimRecords']"
   ]
  },
  {
   "cell_type": "code",
   "execution_count": 6,
   "id": "b93d4d1e",
   "metadata": {},
   "outputs": [
    {
     "name": "stderr",
     "output_type": "stream",
     "text": [
      "/var/folders/6z/k64bhyxx10b4vcf25jbz7mhh0000gn/T/ipykernel_63353/1521170818.py:1: DtypeWarning: Columns (3,6,7,10,12,14,15,17,26,28,29,30,31,32,33,34,36,39,42,43,62,71,72,73) have mixed types. Specify dtype option on import or set low_memory=False.\n",
      "  df1 = pd.read_csv(os.path.join(DATA_PATH, 'CollisionRecords.csv'))\n",
      "/var/folders/6z/k64bhyxx10b4vcf25jbz7mhh0000gn/T/ipykernel_63353/1521170818.py:2: DtypeWarning: Columns (25,26,37,68) have mixed types. Specify dtype option on import or set low_memory=False.\n",
      "  df2 = pd.read_csv(os.path.join(DATA_PATH, 'clean_collisions.csv'))\n"
     ]
    }
   ],
   "source": [
    "df1 = pd.read_csv(os.path.join(DATA_PATH, 'CollisionRecords.csv'))\n",
    "df2 = pd.read_csv(os.path.join(DATA_PATH, 'clean_collisions.csv'))"
   ]
  },
  {
   "cell_type": "code",
   "execution_count": 7,
   "id": "6f7f76bb",
   "metadata": {},
   "outputs": [
    {
     "data": {
      "text/plain": [
       "Index(['CASE_ID', 'ACCIDENT_YEAR', 'PROC_DATE', 'JURIS', 'COLLISION_DATE',\n",
       "       'COLLISION_TIME', 'OFFICER_ID', 'REPORTING_DISTRICT', 'DAY_OF_WEEK',\n",
       "       'CHP_SHIFT', 'POPULATION', 'CNTY_CITY_LOC', 'SPECIAL_COND', 'BEAT_TYPE',\n",
       "       'CHP_BEAT_TYPE', 'CITY_DIVISION_LAPD', 'CHP_BEAT_CLASS', 'BEAT_NUMBER',\n",
       "       'PRIMARY_RD', 'SECONDARY_RD', 'DISTANCE', 'DIRECTION', 'INTERSECTION',\n",
       "       'WEATHER_1', 'WEATHER_2', 'STATE_HWY_IND', 'CALTRANS_COUNTY',\n",
       "       'CALTRANS_DISTRICT', 'STATE_ROUTE', 'ROUTE_SUFFIX', 'POSTMILE_PREFIX',\n",
       "       'POSTMILE', 'LOCATION_TYPE', 'RAMP_INTERSECTION', 'SIDE_OF_HWY',\n",
       "       'TOW_AWAY', 'COLLISION_SEVERITY', 'NUMBER_KILLED', 'NUMBER_INJURED',\n",
       "       'PARTY_COUNT', 'PRIMARY_COLL_FACTOR', 'PCF_CODE_OF_VIOL',\n",
       "       'PCF_VIOL_CATEGORY', 'PCF_VIOLATION', 'PCF_VIOL_SUBSECTION',\n",
       "       'HIT_AND_RUN', 'TYPE_OF_COLLISION', 'MVIW', 'PED_ACTION',\n",
       "       'ROAD_SURFACE', 'ROAD_COND_1', 'ROAD_COND_2', 'LIGHTING',\n",
       "       'CONTROL_DEVICE', 'CHP_ROAD_TYPE', 'PEDESTRIAN_ACCIDENT',\n",
       "       'BICYCLE_ACCIDENT', 'MOTORCYCLE_ACCIDENT', 'TRUCK_ACCIDENT',\n",
       "       'NOT_PRIVATE_PROPERTY', 'ALCOHOL_INVOLVED', 'STWD_VEHTYPE_AT_FAULT',\n",
       "       'CHP_VEHTYPE_AT_FAULT', 'COUNT_SEVERE_INJ', 'COUNT_VISIBLE_INJ',\n",
       "       'COUNT_COMPLAINT_PAIN', 'COUNT_PED_KILLED', 'COUNT_PED_INJURED',\n",
       "       'COUNT_BICYCLIST_KILLED', 'COUNT_BICYCLIST_INJURED', 'COUNT_MC_KILLED',\n",
       "       'COUNT_MC_INJURED', 'PRIMARY_RAMP', 'SECONDARY_RAMP', 'LATITUDE',\n",
       "       'LONGITUDE'],\n",
       "      dtype='object')"
      ]
     },
     "execution_count": 7,
     "metadata": {},
     "output_type": "execute_result"
    }
   ],
   "source": [
    "df1.columns"
   ]
  },
  {
   "cell_type": "code",
   "execution_count": 8,
   "id": "7432f40d",
   "metadata": {},
   "outputs": [
    {
     "data": {
      "text/plain": [
       "Index(['case_id', 'jurisdiction', 'officer_id', 'reporting_district',\n",
       "       'chp_shift', 'population', 'county_city_location', 'county_location',\n",
       "       'special_condition', 'beat_type', 'chp_beat_type', 'city_division_lapd',\n",
       "       'chp_beat_class', 'beat_number', 'primary_road', 'secondary_road',\n",
       "       'distance', 'direction', 'intersection', 'weather_1', 'weather_2',\n",
       "       'state_highway_indicator', 'caltrans_county', 'caltrans_district',\n",
       "       'state_route', 'route_suffix', 'postmile_prefix', 'postmile',\n",
       "       'location_type', 'ramp_intersection', 'side_of_highway', 'tow_away',\n",
       "       'collision_severity', 'killed_victims', 'injured_victims',\n",
       "       'party_count', 'primary_collision_factor', 'pcf_violation_code',\n",
       "       'pcf_violation_category', 'pcf_violation', 'pcf_violation_subsection',\n",
       "       'hit_and_run', 'type_of_collision', 'motor_vehicle_involved_with',\n",
       "       'pedestrian_action', 'road_surface', 'road_condition_1',\n",
       "       'road_condition_2', 'lighting', 'control_device', 'chp_road_type',\n",
       "       'pedestrian_collision', 'bicycle_collision', 'motorcycle_collision',\n",
       "       'truck_collision', 'not_private_property', 'alcohol_involved',\n",
       "       'statewide_vehicle_type_at_fault', 'chp_vehicle_type_at_fault',\n",
       "       'severe_injury_count', 'other_visible_injury_count',\n",
       "       'complaint_of_pain_injury_count', 'pedestrian_killed_count',\n",
       "       'pedestrian_injured_count', 'bicyclist_killed_count',\n",
       "       'bicyclist_injured_count', 'motorcyclist_killed_count',\n",
       "       'motorcyclist_injured_count', 'primary_ramp', 'secondary_ramp',\n",
       "       'latitude', 'longitude', 'collision_date', 'collision_time',\n",
       "       'process_date'],\n",
       "      dtype='object')"
      ]
     },
     "execution_count": 8,
     "metadata": {},
     "output_type": "execute_result"
    }
   ],
   "source": [
    "df2.columns"
   ]
  },
  {
   "cell_type": "code",
   "execution_count": 10,
   "id": "7772796c",
   "metadata": {},
   "outputs": [
    {
     "data": {
      "text/plain": [
       "['ACCIDENT_YEAR',\n",
       " 'PROC_DATE',\n",
       " 'JURIS',\n",
       " 'DAY_OF_WEEK',\n",
       " 'CNTY_CITY_LOC',\n",
       " 'SPECIAL_COND',\n",
       " 'PRIMARY_RD',\n",
       " 'SECONDARY_RD',\n",
       " 'STATE_HWY_IND',\n",
       " 'SIDE_OF_HWY',\n",
       " 'NUMBER_KILLED',\n",
       " 'NUMBER_INJURED',\n",
       " 'PRIMARY_COLL_FACTOR',\n",
       " 'PCF_CODE_OF_VIOL',\n",
       " 'PCF_VIOL_CATEGORY',\n",
       " 'PCF_VIOL_SUBSECTION',\n",
       " 'MVIW',\n",
       " 'PED_ACTION',\n",
       " 'ROAD_COND_1',\n",
       " 'ROAD_COND_2',\n",
       " 'PEDESTRIAN_ACCIDENT',\n",
       " 'BICYCLE_ACCIDENT',\n",
       " 'MOTORCYCLE_ACCIDENT',\n",
       " 'TRUCK_ACCIDENT',\n",
       " 'STWD_VEHTYPE_AT_FAULT',\n",
       " 'CHP_VEHTYPE_AT_FAULT',\n",
       " 'COUNT_SEVERE_INJ',\n",
       " 'COUNT_VISIBLE_INJ',\n",
       " 'COUNT_COMPLAINT_PAIN',\n",
       " 'COUNT_PED_KILLED',\n",
       " 'COUNT_PED_INJURED',\n",
       " 'COUNT_BICYCLIST_KILLED',\n",
       " 'COUNT_BICYCLIST_INJURED',\n",
       " 'COUNT_MC_KILLED',\n",
       " 'COUNT_MC_INJURED']"
      ]
     },
     "execution_count": 10,
     "metadata": {},
     "output_type": "execute_result"
    }
   ],
   "source": [
    "[x for x in df1.columns if x.lower() not in df2.columns]"
   ]
  },
  {
   "cell_type": "code",
   "execution_count": 11,
   "id": "a866a50b",
   "metadata": {},
   "outputs": [
    {
     "data": {
      "text/plain": [
       "0          2020-03-14\n",
       "1          2009-02-28\n",
       "2          2009-02-09\n",
       "3          2009-02-18\n",
       "4          2009-02-11\n",
       "              ...    \n",
       "7230117    2015-11-30\n",
       "7230118    2016-05-28\n",
       "7230119    2016-05-11\n",
       "7230120    2016-08-18\n",
       "7230121    2016-06-21\n",
       "Name: collision_date, Length: 7230122, dtype: object"
      ]
     },
     "execution_count": 11,
     "metadata": {},
     "output_type": "execute_result"
    }
   ],
   "source": [
    "df2['collision_date']"
   ]
  },
  {
   "cell_type": "code",
   "execution_count": 13,
   "id": "84bc5582",
   "metadata": {},
   "outputs": [
    {
     "data": {
      "text/plain": [
       "0          2001\n",
       "1          2001\n",
       "2          2001\n",
       "3          2001\n",
       "4          2001\n",
       "           ... \n",
       "9212309    2016\n",
       "9212310    2016\n",
       "9212311    2016\n",
       "9212312    2016\n",
       "9212313    2016\n",
       "Name: ACCIDENT_YEAR, Length: 9212314, dtype: int64"
      ]
     },
     "execution_count": 13,
     "metadata": {},
     "output_type": "execute_result"
    }
   ],
   "source": [
    "df1['ACCIDENT_YEAR']"
   ]
  },
  {
   "cell_type": "code",
   "execution_count": null,
   "id": "cfb0d13a",
   "metadata": {},
   "outputs": [],
   "source": []
  }
 ],
 "metadata": {
  "kernelspec": {
   "display_name": "Python 3 (ipykernel)",
   "language": "python",
   "name": "python3"
  },
  "language_info": {
   "codemirror_mode": {
    "name": "ipython",
    "version": 3
   },
   "file_extension": ".py",
   "mimetype": "text/x-python",
   "name": "python",
   "nbconvert_exporter": "python",
   "pygments_lexer": "ipython3",
   "version": "3.10.6"
  }
 },
 "nbformat": 4,
 "nbformat_minor": 5
}

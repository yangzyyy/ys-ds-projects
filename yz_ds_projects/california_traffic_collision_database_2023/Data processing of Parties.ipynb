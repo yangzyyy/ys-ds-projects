{
 "cells": [
  {
   "cell_type": "markdown",
   "id": "22c3e09a",
   "metadata": {},
   "source": [
    "# California Traffic Collision Data from SWITRS"
   ]
  },
  {
   "cell_type": "markdown",
   "id": "025d1b74",
   "metadata": {},
   "source": [
    "Table `parties` contains information about the groups people involved in the collision including age, sex, and sobriety. "
   ]
  },
  {
   "cell_type": "code",
   "execution_count": 1,
   "id": "de3d82c2",
   "metadata": {},
   "outputs": [
    {
     "data": {
      "text/html": [
       "        <script type=\"text/javascript\">\n",
       "        window.PlotlyConfig = {MathJaxConfig: 'local'};\n",
       "        if (window.MathJax && window.MathJax.Hub && window.MathJax.Hub.Config) {window.MathJax.Hub.Config({SVG: {font: \"STIX-Web\"}});}\n",
       "        if (typeof require !== 'undefined') {\n",
       "        require.undef(\"plotly\");\n",
       "        requirejs.config({\n",
       "            paths: {\n",
       "                'plotly': ['https://cdn.plot.ly/plotly-2.12.1.min']\n",
       "            }\n",
       "        });\n",
       "        require(['plotly'], function(Plotly) {\n",
       "            window._Plotly = Plotly;\n",
       "        });\n",
       "        }\n",
       "        </script>\n",
       "        "
      ]
     },
     "metadata": {},
     "output_type": "display_data"
    }
   ],
   "source": [
    "import pandas as pd\n",
    "import numpy as np\n",
    "import sqlite3\n",
    "import plotly.express as px\n",
    "import folium\n",
    "from folium import plugins\n",
    "from folium.plugins import HeatMap\n",
    "import pygal \n",
    "import matplotlib.pyplot as plt\n",
    "import seaborn as sns\n",
    "import plotly\n",
    "import plotly.graph_objects as go\n",
    "from pygal.style import Style\n",
    "from IPython.display import display, HTML\n",
    "plotly.offline.init_notebook_mode (connected = True)\n",
    "import warnings\n",
    "warnings.filterwarnings('ignore')"
   ]
  },
  {
   "cell_type": "markdown",
   "id": "b0199a76",
   "metadata": {},
   "source": [
    "## Import and View data"
   ]
  },
  {
   "cell_type": "code",
   "execution_count": 2,
   "id": "049ba462",
   "metadata": {},
   "outputs": [],
   "source": [
    "# Create a SQL connection to SQLite database\n",
    "con = sqlite3.connect('/Users/sunhe/Desktop/NUS_Semester1/DSA5104/project/data/switrs.sqlite')"
   ]
  },
  {
   "cell_type": "code",
   "execution_count": 3,
   "id": "ad0dbc68",
   "metadata": {},
   "outputs": [],
   "source": [
    "# check attributes in the table\n",
    "parties = pd.read_sql_query(\n",
    "    \"\"\"\n",
    "    SELECT * \n",
    "    FROM parties;\n",
    "    \"\"\", con)"
   ]
  },
  {
   "cell_type": "code",
   "execution_count": 4,
   "id": "54cb40cc",
   "metadata": {},
   "outputs": [
    {
     "data": {
      "text/plain": [
       "(18669166, 32)"
      ]
     },
     "execution_count": 4,
     "metadata": {},
     "output_type": "execute_result"
    }
   ],
   "source": [
    "parties.shape"
   ]
  },
  {
   "cell_type": "code",
   "execution_count": 5,
   "id": "0df1e9d1",
   "metadata": {},
   "outputs": [
    {
     "data": {
      "text/html": [
       "<div>\n",
       "<style scoped>\n",
       "    .dataframe tbody tr th:only-of-type {\n",
       "        vertical-align: middle;\n",
       "    }\n",
       "\n",
       "    .dataframe tbody tr th {\n",
       "        vertical-align: top;\n",
       "    }\n",
       "\n",
       "    .dataframe thead th {\n",
       "        text-align: right;\n",
       "    }\n",
       "</style>\n",
       "<table border=\"1\" class=\"dataframe\">\n",
       "  <thead>\n",
       "    <tr style=\"text-align: right;\">\n",
       "      <th></th>\n",
       "      <th>id</th>\n",
       "      <th>case_id</th>\n",
       "      <th>party_number</th>\n",
       "      <th>party_type</th>\n",
       "      <th>at_fault</th>\n",
       "      <th>party_sex</th>\n",
       "      <th>party_age</th>\n",
       "      <th>party_sobriety</th>\n",
       "      <th>party_drug_physical</th>\n",
       "      <th>direction_of_travel</th>\n",
       "      <th>...</th>\n",
       "      <th>other_associate_factor_2</th>\n",
       "      <th>party_number_killed</th>\n",
       "      <th>party_number_injured</th>\n",
       "      <th>movement_preceding_collision</th>\n",
       "      <th>vehicle_year</th>\n",
       "      <th>vehicle_make</th>\n",
       "      <th>statewide_vehicle_type</th>\n",
       "      <th>chp_vehicle_type_towing</th>\n",
       "      <th>chp_vehicle_type_towed</th>\n",
       "      <th>party_race</th>\n",
       "    </tr>\n",
       "  </thead>\n",
       "  <tbody>\n",
       "    <tr>\n",
       "      <th>0</th>\n",
       "      <td>1</td>\n",
       "      <td>0081715</td>\n",
       "      <td>1</td>\n",
       "      <td>driver</td>\n",
       "      <td>1</td>\n",
       "      <td>female</td>\n",
       "      <td>35.0</td>\n",
       "      <td>not applicable</td>\n",
       "      <td>not applicable</td>\n",
       "      <td>north</td>\n",
       "      <td>...</td>\n",
       "      <td>None</td>\n",
       "      <td>0</td>\n",
       "      <td>0</td>\n",
       "      <td>proceeding straight</td>\n",
       "      <td>2007.0</td>\n",
       "      <td>ford</td>\n",
       "      <td>None</td>\n",
       "      <td>None</td>\n",
       "      <td>None</td>\n",
       "      <td>other</td>\n",
       "    </tr>\n",
       "    <tr>\n",
       "      <th>1</th>\n",
       "      <td>2</td>\n",
       "      <td>0081715</td>\n",
       "      <td>2</td>\n",
       "      <td>driver</td>\n",
       "      <td>0</td>\n",
       "      <td>female</td>\n",
       "      <td>43.0</td>\n",
       "      <td>not applicable</td>\n",
       "      <td>not applicable</td>\n",
       "      <td>north</td>\n",
       "      <td>...</td>\n",
       "      <td>None</td>\n",
       "      <td>0</td>\n",
       "      <td>0</td>\n",
       "      <td>proceeding straight</td>\n",
       "      <td>2019.0</td>\n",
       "      <td>None</td>\n",
       "      <td>None</td>\n",
       "      <td>None</td>\n",
       "      <td>None</td>\n",
       "      <td>hispanic</td>\n",
       "    </tr>\n",
       "    <tr>\n",
       "      <th>2</th>\n",
       "      <td>3</td>\n",
       "      <td>0726202</td>\n",
       "      <td>1</td>\n",
       "      <td>driver</td>\n",
       "      <td>1</td>\n",
       "      <td>None</td>\n",
       "      <td>NaN</td>\n",
       "      <td>impairment unknown</td>\n",
       "      <td>G</td>\n",
       "      <td>north</td>\n",
       "      <td>...</td>\n",
       "      <td>None</td>\n",
       "      <td>0</td>\n",
       "      <td>0</td>\n",
       "      <td>proceeding straight</td>\n",
       "      <td>2005.0</td>\n",
       "      <td>None</td>\n",
       "      <td>passenger car</td>\n",
       "      <td>passenger car, station</td>\n",
       "      <td>None</td>\n",
       "      <td>None</td>\n",
       "    </tr>\n",
       "    <tr>\n",
       "      <th>3</th>\n",
       "      <td>4</td>\n",
       "      <td>3858022</td>\n",
       "      <td>1</td>\n",
       "      <td>driver</td>\n",
       "      <td>1</td>\n",
       "      <td>male</td>\n",
       "      <td>47.0</td>\n",
       "      <td>impairment unknown</td>\n",
       "      <td>G</td>\n",
       "      <td>east</td>\n",
       "      <td>...</td>\n",
       "      <td>None</td>\n",
       "      <td>0</td>\n",
       "      <td>0</td>\n",
       "      <td>None</td>\n",
       "      <td>2007.0</td>\n",
       "      <td>dodge</td>\n",
       "      <td>emergency vehicle</td>\n",
       "      <td>police car</td>\n",
       "      <td>00</td>\n",
       "      <td>black</td>\n",
       "    </tr>\n",
       "    <tr>\n",
       "      <th>4</th>\n",
       "      <td>5</td>\n",
       "      <td>3858022</td>\n",
       "      <td>2</td>\n",
       "      <td>driver</td>\n",
       "      <td>0</td>\n",
       "      <td>male</td>\n",
       "      <td>58.0</td>\n",
       "      <td>had not been drinking</td>\n",
       "      <td>None</td>\n",
       "      <td>east</td>\n",
       "      <td>...</td>\n",
       "      <td>None</td>\n",
       "      <td>0</td>\n",
       "      <td>0</td>\n",
       "      <td>None</td>\n",
       "      <td>2006.0</td>\n",
       "      <td>nissan</td>\n",
       "      <td>None</td>\n",
       "      <td>None</td>\n",
       "      <td>00</td>\n",
       "      <td>hispanic</td>\n",
       "    </tr>\n",
       "  </tbody>\n",
       "</table>\n",
       "<p>5 rows × 32 columns</p>\n",
       "</div>"
      ],
      "text/plain": [
       "   id  case_id  party_number party_type  at_fault party_sex  party_age  \\\n",
       "0   1  0081715             1     driver         1    female       35.0   \n",
       "1   2  0081715             2     driver         0    female       43.0   \n",
       "2   3  0726202             1     driver         1      None        NaN   \n",
       "3   4  3858022             1     driver         1      male       47.0   \n",
       "4   5  3858022             2     driver         0      male       58.0   \n",
       "\n",
       "          party_sobriety party_drug_physical direction_of_travel  ...  \\\n",
       "0         not applicable      not applicable               north  ...   \n",
       "1         not applicable      not applicable               north  ...   \n",
       "2     impairment unknown                   G               north  ...   \n",
       "3     impairment unknown                   G                east  ...   \n",
       "4  had not been drinking                None                east  ...   \n",
       "\n",
       "  other_associate_factor_2 party_number_killed party_number_injured  \\\n",
       "0                     None                   0                    0   \n",
       "1                     None                   0                    0   \n",
       "2                     None                   0                    0   \n",
       "3                     None                   0                    0   \n",
       "4                     None                   0                    0   \n",
       "\n",
       "   movement_preceding_collision  vehicle_year vehicle_make  \\\n",
       "0           proceeding straight        2007.0         ford   \n",
       "1           proceeding straight        2019.0         None   \n",
       "2           proceeding straight        2005.0         None   \n",
       "3                          None        2007.0        dodge   \n",
       "4                          None        2006.0       nissan   \n",
       "\n",
       "   statewide_vehicle_type chp_vehicle_type_towing chp_vehicle_type_towed  \\\n",
       "0                    None                    None                   None   \n",
       "1                    None                    None                   None   \n",
       "2           passenger car  passenger car, station                   None   \n",
       "3       emergency vehicle              police car                     00   \n",
       "4                    None                    None                     00   \n",
       "\n",
       "  party_race  \n",
       "0      other  \n",
       "1   hispanic  \n",
       "2       None  \n",
       "3      black  \n",
       "4   hispanic  \n",
       "\n",
       "[5 rows x 32 columns]"
      ]
     },
     "execution_count": 5,
     "metadata": {},
     "output_type": "execute_result"
    }
   ],
   "source": [
    "parties.head()"
   ]
  },
  {
   "cell_type": "markdown",
   "id": "7cd192f8",
   "metadata": {},
   "source": [
    "## Analyze and visualize data"
   ]
  },
  {
   "cell_type": "code",
   "execution_count": 6,
   "id": "7aed3407",
   "metadata": {},
   "outputs": [],
   "source": [
    "base_html = \"\"\" \n",
    "<!DOCTYPE html> \n",
    "<html> \n",
    "  <head> \n",
    "  <script type=\"text/javascript\" src=\"http://kozea.github.com/pygal.js/javascripts/svg.jquery.js\"></script> \n",
    "  <script type=\"text/javascript\" src=\"https://kozea.github.io/pygal.js/2.0.x/pygal-tooltips.min.js\"\"></script> \n",
    "  </head> \n",
    "  <body> \n",
    "    <figure> \n",
    "      {rendered_chart} \n",
    "    </figure> \n",
    "  </body> \n",
    "</html> \n",
    "\"\"\" "
   ]
  },
  {
   "cell_type": "markdown",
   "id": "621e094e",
   "metadata": {},
   "source": [
    "### party_sex vs at_fault"
   ]
  },
  {
   "cell_type": "code",
   "execution_count": 7,
   "id": "fe08b5a0",
   "metadata": {},
   "outputs": [],
   "source": [
    "data = pd.read_sql_query(\n",
    "    \"\"\"\n",
    "    SELECT *\n",
    "    FROM parties\n",
    "    LIMIT 4000000\n",
    "    \"\"\", con, parse_dates=[\"collision_date\"])"
   ]
  },
  {
   "cell_type": "code",
   "execution_count": 8,
   "id": "bd4c9245",
   "metadata": {},
   "outputs": [
    {
     "data": {
      "text/html": [
       " \n",
       "<!DOCTYPE html> \n",
       "<html> \n",
       "  <head> \n",
       "  <script type=\"text/javascript\" src=\"http://kozea.github.com/pygal.js/javascripts/svg.jquery.js\"></script> \n",
       "  <script type=\"text/javascript\" src=\"https://kozea.github.io/pygal.js/2.0.x/pygal-tooltips.min.js\"\"></script> \n",
       "  </head> \n",
       "  <body> \n",
       "    <figure> \n",
       "      <?xml version='1.0' encoding='utf-8'?>\n",
       "<svg xmlns=\"http://www.w3.org/2000/svg\" xmlns:xlink=\"http://www.w3.org/1999/xlink\" id=\"chart-ea712f6c-42eb-4dad-a5b4-241f13cd95b2\" class=\"pygal-chart\" viewBox=\"0 0 800 600\"><!--Generated with pygal 3.0.0 (lxml) ©Kozea 2012-2016 on 2023-11-06--><!--http://pygal.org--><!--http://github.com/Kozea/pygal--><defs><style type=\"text/css\">#chart-ea712f6c-42eb-4dad-a5b4-241f13cd95b2{-webkit-user-select:none;-webkit-font-smoothing:antialiased;font-family:Consolas,\"Liberation Mono\",Menlo,Courier,monospace}#chart-ea712f6c-42eb-4dad-a5b4-241f13cd95b2 .title{font-family:Consolas,\"Liberation Mono\",Menlo,Courier,monospace;font-size:16px}#chart-ea712f6c-42eb-4dad-a5b4-241f13cd95b2 .legends .legend text{font-family:Consolas,\"Liberation Mono\",Menlo,Courier,monospace;font-size:14px}#chart-ea712f6c-42eb-4dad-a5b4-241f13cd95b2 .axis text{font-family:Consolas,\"Liberation Mono\",Menlo,Courier,monospace;font-size:10px}#chart-ea712f6c-42eb-4dad-a5b4-241f13cd95b2 .axis text.major{font-family:Consolas,\"Liberation Mono\",Menlo,Courier,monospace;font-size:10px}#chart-ea712f6c-42eb-4dad-a5b4-241f13cd95b2 .text-overlay text.value{font-family:Consolas,\"Liberation Mono\",Menlo,Courier,monospace;font-size:16px}#chart-ea712f6c-42eb-4dad-a5b4-241f13cd95b2 .text-overlay text.label{font-family:Consolas,\"Liberation Mono\",Menlo,Courier,monospace;font-size:10px}#chart-ea712f6c-42eb-4dad-a5b4-241f13cd95b2 .tooltip{font-family:Consolas,\"Liberation Mono\",Menlo,Courier,monospace;font-size:14px}#chart-ea712f6c-42eb-4dad-a5b4-241f13cd95b2 text.no_data{font-family:Consolas,\"Liberation Mono\",Menlo,Courier,monospace;font-size:64px}\n",
       "#chart-ea712f6c-42eb-4dad-a5b4-241f13cd95b2{background-color:rgba(249,249,249,1)}#chart-ea712f6c-42eb-4dad-a5b4-241f13cd95b2 path,#chart-ea712f6c-42eb-4dad-a5b4-241f13cd95b2 line,#chart-ea712f6c-42eb-4dad-a5b4-241f13cd95b2 rect,#chart-ea712f6c-42eb-4dad-a5b4-241f13cd95b2 circle{-webkit-transition:150ms;-moz-transition:150ms;transition:150ms}#chart-ea712f6c-42eb-4dad-a5b4-241f13cd95b2 .graph &gt; .background{fill:rgba(249,249,249,1)}#chart-ea712f6c-42eb-4dad-a5b4-241f13cd95b2 .plot &gt; .background{fill:rgba(255,255,255,1)}#chart-ea712f6c-42eb-4dad-a5b4-241f13cd95b2 .graph{fill:rgba(0,0,0,.87)}#chart-ea712f6c-42eb-4dad-a5b4-241f13cd95b2 text.no_data{fill:rgba(0,0,0,1)}#chart-ea712f6c-42eb-4dad-a5b4-241f13cd95b2 .title{fill:rgba(0,0,0,1)}#chart-ea712f6c-42eb-4dad-a5b4-241f13cd95b2 .legends .legend text{fill:rgba(0,0,0,.87)}#chart-ea712f6c-42eb-4dad-a5b4-241f13cd95b2 .legends .legend:hover text{fill:rgba(0,0,0,1)}#chart-ea712f6c-42eb-4dad-a5b4-241f13cd95b2 .axis .line{stroke:rgba(0,0,0,1)}#chart-ea712f6c-42eb-4dad-a5b4-241f13cd95b2 .axis .guide.line{stroke:rgba(0,0,0,.54)}#chart-ea712f6c-42eb-4dad-a5b4-241f13cd95b2 .axis .major.line{stroke:rgba(0,0,0,.87)}#chart-ea712f6c-42eb-4dad-a5b4-241f13cd95b2 .axis text.major{fill:rgba(0,0,0,1)}#chart-ea712f6c-42eb-4dad-a5b4-241f13cd95b2 .axis.y .guides:hover .guide.line,#chart-ea712f6c-42eb-4dad-a5b4-241f13cd95b2 .line-graph .axis.x .guides:hover .guide.line,#chart-ea712f6c-42eb-4dad-a5b4-241f13cd95b2 .stackedline-graph .axis.x .guides:hover .guide.line,#chart-ea712f6c-42eb-4dad-a5b4-241f13cd95b2 .xy-graph .axis.x .guides:hover .guide.line{stroke:rgba(0,0,0,1)}#chart-ea712f6c-42eb-4dad-a5b4-241f13cd95b2 .axis .guides:hover text{fill:rgba(0,0,0,1)}#chart-ea712f6c-42eb-4dad-a5b4-241f13cd95b2 .reactive{fill-opacity:.7;stroke-opacity:.8;stroke-width:1}#chart-ea712f6c-42eb-4dad-a5b4-241f13cd95b2 .ci{stroke:rgba(0,0,0,.87)}#chart-ea712f6c-42eb-4dad-a5b4-241f13cd95b2 .reactive.active,#chart-ea712f6c-42eb-4dad-a5b4-241f13cd95b2 .active .reactive{fill-opacity:.8;stroke-opacity:.9;stroke-width:4}#chart-ea712f6c-42eb-4dad-a5b4-241f13cd95b2 .ci .reactive.active{stroke-width:1.5}#chart-ea712f6c-42eb-4dad-a5b4-241f13cd95b2 .series text{fill:rgba(0,0,0,1)}#chart-ea712f6c-42eb-4dad-a5b4-241f13cd95b2 .tooltip rect{fill:rgba(255,255,255,1);stroke:rgba(0,0,0,1);-webkit-transition:opacity 150ms;-moz-transition:opacity 150ms;transition:opacity 150ms}#chart-ea712f6c-42eb-4dad-a5b4-241f13cd95b2 .tooltip .label{fill:rgba(0,0,0,.87)}#chart-ea712f6c-42eb-4dad-a5b4-241f13cd95b2 .tooltip .label{fill:rgba(0,0,0,.87)}#chart-ea712f6c-42eb-4dad-a5b4-241f13cd95b2 .tooltip .legend{font-size:.8em;fill:rgba(0,0,0,.54)}#chart-ea712f6c-42eb-4dad-a5b4-241f13cd95b2 .tooltip .x_label{font-size:.6em;fill:rgba(0,0,0,1)}#chart-ea712f6c-42eb-4dad-a5b4-241f13cd95b2 .tooltip .xlink{font-size:.5em;text-decoration:underline}#chart-ea712f6c-42eb-4dad-a5b4-241f13cd95b2 .tooltip .value{font-size:1.5em}#chart-ea712f6c-42eb-4dad-a5b4-241f13cd95b2 .bound{font-size:.5em}#chart-ea712f6c-42eb-4dad-a5b4-241f13cd95b2 .max-value{font-size:.75em;fill:rgba(0,0,0,.54)}#chart-ea712f6c-42eb-4dad-a5b4-241f13cd95b2 .map-element{fill:rgba(255,255,255,1);stroke:rgba(0,0,0,.54) !important}#chart-ea712f6c-42eb-4dad-a5b4-241f13cd95b2 .map-element .reactive{fill-opacity:inherit;stroke-opacity:inherit}#chart-ea712f6c-42eb-4dad-a5b4-241f13cd95b2 .color-0,#chart-ea712f6c-42eb-4dad-a5b4-241f13cd95b2 .color-0 a:visited{stroke:#F44336;fill:#F44336}#chart-ea712f6c-42eb-4dad-a5b4-241f13cd95b2 .color-1,#chart-ea712f6c-42eb-4dad-a5b4-241f13cd95b2 .color-1 a:visited{stroke:#3F51B5;fill:#3F51B5}#chart-ea712f6c-42eb-4dad-a5b4-241f13cd95b2 .text-overlay .color-0 text{fill:black}#chart-ea712f6c-42eb-4dad-a5b4-241f13cd95b2 .text-overlay .color-1 text{fill:black}\n",
       "#chart-ea712f6c-42eb-4dad-a5b4-241f13cd95b2 text.no_data{text-anchor:middle}#chart-ea712f6c-42eb-4dad-a5b4-241f13cd95b2 .guide.line{fill:none}#chart-ea712f6c-42eb-4dad-a5b4-241f13cd95b2 .centered{text-anchor:middle}#chart-ea712f6c-42eb-4dad-a5b4-241f13cd95b2 .title{text-anchor:middle}#chart-ea712f6c-42eb-4dad-a5b4-241f13cd95b2 .legends .legend text{fill-opacity:1}#chart-ea712f6c-42eb-4dad-a5b4-241f13cd95b2 .axis.x text{text-anchor:middle}#chart-ea712f6c-42eb-4dad-a5b4-241f13cd95b2 .axis.x:not(.web) text[transform]{text-anchor:start}#chart-ea712f6c-42eb-4dad-a5b4-241f13cd95b2 .axis.x:not(.web) text[transform].backwards{text-anchor:end}#chart-ea712f6c-42eb-4dad-a5b4-241f13cd95b2 .axis.y text{text-anchor:end}#chart-ea712f6c-42eb-4dad-a5b4-241f13cd95b2 .axis.y text[transform].backwards{text-anchor:start}#chart-ea712f6c-42eb-4dad-a5b4-241f13cd95b2 .axis.y2 text{text-anchor:start}#chart-ea712f6c-42eb-4dad-a5b4-241f13cd95b2 .axis.y2 text[transform].backwards{text-anchor:end}#chart-ea712f6c-42eb-4dad-a5b4-241f13cd95b2 .axis .guide.line{stroke-dasharray:4,4;stroke:black}#chart-ea712f6c-42eb-4dad-a5b4-241f13cd95b2 .axis .major.guide.line{stroke-dasharray:6,6;stroke:black}#chart-ea712f6c-42eb-4dad-a5b4-241f13cd95b2 .horizontal .axis.y .guide.line,#chart-ea712f6c-42eb-4dad-a5b4-241f13cd95b2 .horizontal .axis.y2 .guide.line,#chart-ea712f6c-42eb-4dad-a5b4-241f13cd95b2 .vertical .axis.x .guide.line{opacity:0}#chart-ea712f6c-42eb-4dad-a5b4-241f13cd95b2 .horizontal .axis.always_show .guide.line,#chart-ea712f6c-42eb-4dad-a5b4-241f13cd95b2 .vertical .axis.always_show .guide.line{opacity:1 !important}#chart-ea712f6c-42eb-4dad-a5b4-241f13cd95b2 .axis.y .guides:hover .guide.line,#chart-ea712f6c-42eb-4dad-a5b4-241f13cd95b2 .axis.y2 .guides:hover .guide.line,#chart-ea712f6c-42eb-4dad-a5b4-241f13cd95b2 .axis.x .guides:hover .guide.line{opacity:1}#chart-ea712f6c-42eb-4dad-a5b4-241f13cd95b2 .axis .guides:hover text{opacity:1}#chart-ea712f6c-42eb-4dad-a5b4-241f13cd95b2 .nofill{fill:none}#chart-ea712f6c-42eb-4dad-a5b4-241f13cd95b2 .subtle-fill{fill-opacity:.2}#chart-ea712f6c-42eb-4dad-a5b4-241f13cd95b2 .dot{stroke-width:1px;fill-opacity:1;stroke-opacity:1}#chart-ea712f6c-42eb-4dad-a5b4-241f13cd95b2 .dot.active{stroke-width:5px}#chart-ea712f6c-42eb-4dad-a5b4-241f13cd95b2 .dot.negative{fill:transparent}#chart-ea712f6c-42eb-4dad-a5b4-241f13cd95b2 text,#chart-ea712f6c-42eb-4dad-a5b4-241f13cd95b2 tspan{stroke:none !important}#chart-ea712f6c-42eb-4dad-a5b4-241f13cd95b2 .series text.active{opacity:1}#chart-ea712f6c-42eb-4dad-a5b4-241f13cd95b2 .tooltip rect{fill-opacity:.95;stroke-width:.5}#chart-ea712f6c-42eb-4dad-a5b4-241f13cd95b2 .tooltip text{fill-opacity:1}#chart-ea712f6c-42eb-4dad-a5b4-241f13cd95b2 .showable{visibility:hidden}#chart-ea712f6c-42eb-4dad-a5b4-241f13cd95b2 .showable.shown{visibility:visible}#chart-ea712f6c-42eb-4dad-a5b4-241f13cd95b2 .gauge-background{fill:rgba(229,229,229,1);stroke:none}#chart-ea712f6c-42eb-4dad-a5b4-241f13cd95b2 .bg-lines{stroke:rgba(249,249,249,1);stroke-width:2px}</style><script type=\"text/javascript\">window.pygal = window.pygal || {};window.pygal.config = window.pygal.config || {};window.pygal.config['ea712f6c-42eb-4dad-a5b4-241f13cd95b2'] = {\"allow_interruptions\": false, \"box_mode\": \"extremes\", \"classes\": [\"pygal-chart\"], \"css\": [\"file://style.css\", \"file://graph.css\"], \"defs\": [], \"disable_xml_declaration\": false, \"dots_size\": 2.5, \"dynamic_print_values\": false, \"explicit_size\": false, \"fill\": false, \"force_uri_protocol\": \"https\", \"formatter\": null, \"half_pie\": false, \"height\": 600, \"include_x_axis\": false, \"inner_radius\": 0, \"interpolate\": null, \"interpolation_parameters\": {}, \"interpolation_precision\": 250, \"inverse_y_axis\": false, \"js\": [\"//kozea.github.io/pygal.js/2.0.x/pygal-tooltips.min.js\"], \"legend_at_bottom\": false, \"legend_at_bottom_columns\": null, \"legend_box_size\": 12, \"logarithmic\": false, \"margin\": 20, \"margin_bottom\": null, \"margin_left\": null, \"margin_right\": null, \"margin_top\": null, \"max_scale\": 16, \"min_scale\": 4, \"missing_value_fill_truncation\": \"x\", \"no_data_text\": \"No data\", \"no_prefix\": false, \"order_min\": null, \"pretty_print\": false, \"print_labels\": false, \"print_values\": false, \"print_values_position\": \"center\", \"print_zeroes\": true, \"range\": null, \"rounded_bars\": null, \"secondary_range\": null, \"show_dots\": true, \"show_legend\": true, \"show_minor_x_labels\": true, \"show_minor_y_labels\": true, \"show_only_major_dots\": false, \"show_x_guides\": false, \"show_x_labels\": true, \"show_y_guides\": true, \"show_y_labels\": true, \"spacing\": 10, \"stack_from_top\": false, \"strict\": false, \"stroke\": true, \"stroke_style\": null, \"style\": {\"background\": \"rgba(249, 249, 249, 1)\", \"ci_colors\": [], \"colors\": [\"#F44336\", \"#3F51B5\", \"#009688\", \"#FFC107\", \"#FF5722\", \"#9C27B0\", \"#03A9F4\", \"#8BC34A\", \"#FF9800\", \"#E91E63\", \"#2196F3\", \"#4CAF50\", \"#FFEB3B\", \"#673AB7\", \"#00BCD4\", \"#CDDC39\", \"#9E9E9E\", \"#607D8B\"], \"dot_opacity\": \"1\", \"font_family\": \"Consolas, \\\"Liberation Mono\\\", Menlo, Courier, monospace\", \"foreground\": \"rgba(0, 0, 0, .87)\", \"foreground_strong\": \"rgba(0, 0, 0, 1)\", \"foreground_subtle\": \"rgba(0, 0, 0, .54)\", \"guide_stroke_color\": \"black\", \"guide_stroke_dasharray\": \"4,4\", \"label_font_family\": \"Consolas, \\\"Liberation Mono\\\", Menlo, Courier, monospace\", \"label_font_size\": 10, \"legend_font_family\": \"Consolas, \\\"Liberation Mono\\\", Menlo, Courier, monospace\", \"legend_font_size\": 14, \"major_guide_stroke_color\": \"black\", \"major_guide_stroke_dasharray\": \"6,6\", \"major_label_font_family\": \"Consolas, \\\"Liberation Mono\\\", Menlo, Courier, monospace\", \"major_label_font_size\": 10, \"no_data_font_family\": \"Consolas, \\\"Liberation Mono\\\", Menlo, Courier, monospace\", \"no_data_font_size\": 64, \"opacity\": \".7\", \"opacity_hover\": \".8\", \"plot_background\": \"rgba(255, 255, 255, 1)\", \"stroke_opacity\": \".8\", \"stroke_opacity_hover\": \".9\", \"stroke_width\": \"1\", \"stroke_width_hover\": \"4\", \"title_font_family\": \"Consolas, \\\"Liberation Mono\\\", Menlo, Courier, monospace\", \"title_font_size\": 16, \"tooltip_font_family\": \"Consolas, \\\"Liberation Mono\\\", Menlo, Courier, monospace\", \"tooltip_font_size\": 14, \"transition\": \"150ms\", \"value_background\": \"rgba(229, 229, 229, 1)\", \"value_colors\": [], \"value_font_family\": \"Consolas, \\\"Liberation Mono\\\", Menlo, Courier, monospace\", \"value_font_size\": 16, \"value_label_font_family\": \"Consolas, \\\"Liberation Mono\\\", Menlo, Courier, monospace\", \"value_label_font_size\": 10}, \"title\": \"Male Vs Female Faults in Accidents (%)\", \"tooltip_border_radius\": 0, \"tooltip_fancy_mode\": true, \"truncate_label\": null, \"truncate_legend\": null, \"width\": 800, \"x_label_rotation\": 0, \"x_labels\": [\"Female\", \"Male\"], \"x_labels_major\": null, \"x_labels_major_count\": null, \"x_labels_major_every\": null, \"x_title\": null, \"xrange\": null, \"y_label_rotation\": 0, \"y_labels\": null, \"y_labels_major\": null, \"y_labels_major_count\": null, \"y_labels_major_every\": null, \"y_title\": null, \"zero\": 0, \"legends\": [\"Percentage of Female at Fault\", \"Percentage Of male at Fault\"]}</script><script type=\"text/javascript\" xlink:href=\"https://kozea.github.io/pygal.js/2.0.x/pygal-tooltips.min.js\"/></defs><title>Male Vs Female Faults in Accidents (%)</title><g class=\"graph stackedbar-graph vertical\"><rect x=\"0\" y=\"0\" width=\"800\" height=\"600\" class=\"background\"/><g transform=\"translate(190, 46)\" class=\"plot\"><rect x=\"0\" y=\"0\" width=\"590.0\" height=\"514\" class=\"background\"/><g class=\"axis y always_show\"><g class=\"guides\"><path d=\"M0.000000 504.115385 h590.000000\" class=\"axis major line\"/><text x=\"-5\" y=\"507.61538461538464\" class=\"major\">0</text><title>0</title></g><g class=\"guides\"><path d=\"M0.000000 405.981383 h590.000000\" class=\"guide line\"/><text x=\"-5\" y=\"409.48138304339915\" class=\"\">10</text><title>10</title></g><g class=\"guides\"><path d=\"M0.000000 307.847381 h590.000000\" class=\"guide line\"/><text x=\"-5\" y=\"311.34738147141366\" class=\"\">20</text><title>20</title></g><g class=\"guides\"><path d=\"M0.000000 209.713380 h590.000000\" class=\"guide line\"/><text x=\"-5\" y=\"213.21337989942822\" class=\"\">30</text><title>30</title></g><g class=\"guides\"><path d=\"M0.000000 111.579378 h590.000000\" class=\"guide line\"/><text x=\"-5\" y=\"115.07937832744278\" class=\"\">40</text><title>40</title></g><g class=\"guides\"><path d=\"M0.000000 13.445377 h590.000000\" class=\"major guide line\"/><text x=\"-5\" y=\"16.94537675545729\" class=\"major\">50</text><title>50</title></g></g><g class=\"axis x\"><path d=\"M0.000000 0.000000 v514.000000\" class=\"line\"/><g class=\"guides\"><path d=\"M153.173077 0.000000 v514.000000\" class=\"guide line\"/><text x=\"153.17307692307693\" y=\"529.0\" class=\"\">Female</text></g><g class=\"guides\"><path d=\"M436.826923 0.000000 v514.000000\" class=\"guide line\"/><text x=\"436.8269230769231\" y=\"529.0\" class=\"\">Male</text></g></g><g class=\"series serie-0 color-0\"><g class=\"bars\"><g class=\"bar\"><rect x=\"28.365384615384613\" y=\"68.34164195885973\" rx=\"0\" ry=\"0\" width=\"249.61538461538458\" height=\"435.7737426565249\" class=\"rect reactive tooltip-trigger\"/><desc class=\"value\">44.40598933</desc><desc class=\"x centered\">153.1730769230769</desc><desc class=\"y centered\">286.22851328712215</desc><desc class=\"x_label\">Female</desc></g><g class=\"bar\"><rect x=\"312.0192307692308\" y=\"504.11538461538464\" rx=\"0\" ry=\"0\" width=\"249.61538461538458\" height=\"0.0\" class=\"rect reactive tooltip-trigger\"/><desc class=\"value\">0</desc><desc class=\"x centered\">436.8269230769231</desc><desc class=\"y centered\">504.11538461538464</desc><desc class=\"x_label\">Male</desc></g></g></g><g class=\"series serie-1 color-1\"><g class=\"bars\"><g class=\"bar\"><rect x=\"28.365384615384613\" y=\"68.34164195885973\" rx=\"0\" ry=\"0\" width=\"249.61538461538458\" height=\"0.0\" class=\"rect reactive tooltip-trigger\"/><desc class=\"value\">0</desc><desc class=\"x centered\">153.1730769230769</desc><desc class=\"y centered\">68.34164195885973</desc><desc class=\"x_label\">Female</desc></g><g class=\"bar\"><rect x=\"312.0192307692308\" y=\"9.884615384615358\" rx=\"0\" ry=\"0\" width=\"249.61538461538458\" height=\"494.2307692307693\" class=\"rect reactive tooltip-trigger\"/><desc class=\"value\">50.36284685</desc><desc class=\"x centered\">436.8269230769231</desc><desc class=\"y centered\">257.0</desc><desc class=\"x_label\">Male</desc></g></g></g></g><g class=\"titles\"><text x=\"400.0\" y=\"26\" class=\"title plot_title\">Male Vs Female Faults in Accidents (%)</text></g><g transform=\"translate(190, 46)\" class=\"plot overlay\"><g class=\"series serie-0 color-0\"/><g class=\"series serie-1 color-1\"/></g><g transform=\"translate(190, 46)\" class=\"plot text-overlay\"><g class=\"series serie-0 color-0\"/><g class=\"series serie-1 color-1\"/></g><g transform=\"translate(190, 46)\" class=\"plot tooltip-overlay\"><g transform=\"translate(0 0)\" style=\"opacity: 0\" class=\"tooltip\"><rect rx=\"0\" ry=\"0\" width=\"0\" height=\"0\" class=\"tooltip-box\"/><g class=\"text\"/></g></g><g transform=\"translate(10, 56)\" class=\"legends\"><g id=\"activate-serie-0\" class=\"legend reactive activate-serie\"><rect x=\"0.0\" y=\"1.0\" width=\"12\" height=\"12\" class=\"color-0 reactive\"/><text x=\"17.0\" y=\"11.2\">Percentage of …</text><title>Percentage of Female at Fault</title></g><g id=\"activate-serie-1\" class=\"legend reactive activate-serie\"><rect x=\"0.0\" y=\"22.0\" width=\"12\" height=\"12\" class=\"color-1 reactive\"/><text x=\"17.0\" y=\"32.2\">Percentage Of …</text><title>Percentage Of male at Fault</title></g></g><g transform=\"translate(790, 56)\" class=\"legends\"/></g></svg> \n",
       "    </figure> \n",
       "  </body> \n",
       "</html> \n"
      ],
      "text/plain": [
       "<IPython.core.display.HTML object>"
      ]
     },
     "metadata": {},
     "output_type": "display_data"
    }
   ],
   "source": [
    "female_at_fault=len(data[(data['party_sex']=='female') & (data['at_fault']==1)])/(len(data[data['party_sex']=='female']))\n",
    "\n",
    "# Calculating the Female at Fault percentage\n",
    "female_at_fault_perc=female_at_fault*100\n",
    "\n",
    "male_at_fault=len(data[(data['party_sex']=='male') & (data['at_fault']==1)])/(len(data[data['party_sex']=='male']))\n",
    "male_at_fault_perc=male_at_fault*100\n",
    "\n",
    "female=[female_at_fault_perc,100-female_at_fault_perc]\n",
    "male=[male_at_fault_perc,100-male_at_fault_perc]\n",
    "line_chart = pygal.StackedBar()\n",
    "line_chart.title = 'Male Vs Female Faults in Accidents (%)'\n",
    "line_chart.x_labels = ['Female','Male']\n",
    "line_chart.add('Percentage of Female at Fault', [female[0],None])\n",
    "line_chart.add('Percentage Of male at Fault',      [None,male[0]])\n",
    "display(HTML(base_html.format(rendered_chart=line_chart.render(is_unicode=True)))) "
   ]
  },
  {
   "cell_type": "markdown",
   "id": "24397c11",
   "metadata": {},
   "source": [
    "### Age Distribution of People at fault"
   ]
  },
  {
   "cell_type": "code",
   "execution_count": 9,
   "id": "c764fcb6",
   "metadata": {},
   "outputs": [
    {
     "data": {
      "text/html": [
       " \n",
       "<!DOCTYPE html> \n",
       "<html> \n",
       "  <head> \n",
       "  <script type=\"text/javascript\" src=\"http://kozea.github.com/pygal.js/javascripts/svg.jquery.js\"></script> \n",
       "  <script type=\"text/javascript\" src=\"https://kozea.github.io/pygal.js/2.0.x/pygal-tooltips.min.js\"\"></script> \n",
       "  </head> \n",
       "  <body> \n",
       "    <figure> \n",
       "      <?xml version='1.0' encoding='utf-8'?>\n",
       "<svg xmlns=\"http://www.w3.org/2000/svg\" xmlns:xlink=\"http://www.w3.org/1999/xlink\" id=\"chart-c3840b3d-1465-4ca0-be56-f3f05a596447\" class=\"pygal-chart\" viewBox=\"0 0 800 600\"><!--Generated with pygal 3.0.0 (lxml) ©Kozea 2012-2016 on 2023-11-06--><!--http://pygal.org--><!--http://github.com/Kozea/pygal--><defs><style type=\"text/css\">#chart-c3840b3d-1465-4ca0-be56-f3f05a596447{-webkit-user-select:none;-webkit-font-smoothing:antialiased;font-family:Consolas,\"Liberation Mono\",Menlo,Courier,monospace}#chart-c3840b3d-1465-4ca0-be56-f3f05a596447 .title{font-family:Consolas,\"Liberation Mono\",Menlo,Courier,monospace;font-size:16px}#chart-c3840b3d-1465-4ca0-be56-f3f05a596447 .legends .legend text{font-family:Consolas,\"Liberation Mono\",Menlo,Courier,monospace;font-size:14px}#chart-c3840b3d-1465-4ca0-be56-f3f05a596447 .axis text{font-family:Consolas,\"Liberation Mono\",Menlo,Courier,monospace;font-size:10px}#chart-c3840b3d-1465-4ca0-be56-f3f05a596447 .axis text.major{font-family:Consolas,\"Liberation Mono\",Menlo,Courier,monospace;font-size:10px}#chart-c3840b3d-1465-4ca0-be56-f3f05a596447 .text-overlay text.value{font-family:Consolas,\"Liberation Mono\",Menlo,Courier,monospace;font-size:16px}#chart-c3840b3d-1465-4ca0-be56-f3f05a596447 .text-overlay text.label{font-family:Consolas,\"Liberation Mono\",Menlo,Courier,monospace;font-size:10px}#chart-c3840b3d-1465-4ca0-be56-f3f05a596447 .tooltip{font-family:Consolas,\"Liberation Mono\",Menlo,Courier,monospace;font-size:14px}#chart-c3840b3d-1465-4ca0-be56-f3f05a596447 text.no_data{font-family:Consolas,\"Liberation Mono\",Menlo,Courier,monospace;font-size:64px}\n",
       "#chart-c3840b3d-1465-4ca0-be56-f3f05a596447{background-color:rgba(249,249,249,1)}#chart-c3840b3d-1465-4ca0-be56-f3f05a596447 path,#chart-c3840b3d-1465-4ca0-be56-f3f05a596447 line,#chart-c3840b3d-1465-4ca0-be56-f3f05a596447 rect,#chart-c3840b3d-1465-4ca0-be56-f3f05a596447 circle{-webkit-transition:150ms;-moz-transition:150ms;transition:150ms}#chart-c3840b3d-1465-4ca0-be56-f3f05a596447 .graph &gt; .background{fill:rgba(249,249,249,1)}#chart-c3840b3d-1465-4ca0-be56-f3f05a596447 .plot &gt; .background{fill:rgba(255,255,255,1)}#chart-c3840b3d-1465-4ca0-be56-f3f05a596447 .graph{fill:rgba(0,0,0,.87)}#chart-c3840b3d-1465-4ca0-be56-f3f05a596447 text.no_data{fill:rgba(0,0,0,1)}#chart-c3840b3d-1465-4ca0-be56-f3f05a596447 .title{fill:rgba(0,0,0,1)}#chart-c3840b3d-1465-4ca0-be56-f3f05a596447 .legends .legend text{fill:rgba(0,0,0,.87)}#chart-c3840b3d-1465-4ca0-be56-f3f05a596447 .legends .legend:hover text{fill:rgba(0,0,0,1)}#chart-c3840b3d-1465-4ca0-be56-f3f05a596447 .axis .line{stroke:rgba(0,0,0,1)}#chart-c3840b3d-1465-4ca0-be56-f3f05a596447 .axis .guide.line{stroke:rgba(0,0,0,.54)}#chart-c3840b3d-1465-4ca0-be56-f3f05a596447 .axis .major.line{stroke:rgba(0,0,0,.87)}#chart-c3840b3d-1465-4ca0-be56-f3f05a596447 .axis text.major{fill:rgba(0,0,0,1)}#chart-c3840b3d-1465-4ca0-be56-f3f05a596447 .axis.y .guides:hover .guide.line,#chart-c3840b3d-1465-4ca0-be56-f3f05a596447 .line-graph .axis.x .guides:hover .guide.line,#chart-c3840b3d-1465-4ca0-be56-f3f05a596447 .stackedline-graph .axis.x .guides:hover .guide.line,#chart-c3840b3d-1465-4ca0-be56-f3f05a596447 .xy-graph .axis.x .guides:hover .guide.line{stroke:rgba(0,0,0,1)}#chart-c3840b3d-1465-4ca0-be56-f3f05a596447 .axis .guides:hover text{fill:rgba(0,0,0,1)}#chart-c3840b3d-1465-4ca0-be56-f3f05a596447 .reactive{fill-opacity:.7;stroke-opacity:.8;stroke-width:1}#chart-c3840b3d-1465-4ca0-be56-f3f05a596447 .ci{stroke:rgba(0,0,0,.87)}#chart-c3840b3d-1465-4ca0-be56-f3f05a596447 .reactive.active,#chart-c3840b3d-1465-4ca0-be56-f3f05a596447 .active .reactive{fill-opacity:.8;stroke-opacity:.9;stroke-width:4}#chart-c3840b3d-1465-4ca0-be56-f3f05a596447 .ci .reactive.active{stroke-width:1.5}#chart-c3840b3d-1465-4ca0-be56-f3f05a596447 .series text{fill:rgba(0,0,0,1)}#chart-c3840b3d-1465-4ca0-be56-f3f05a596447 .tooltip rect{fill:rgba(255,255,255,1);stroke:rgba(0,0,0,1);-webkit-transition:opacity 150ms;-moz-transition:opacity 150ms;transition:opacity 150ms}#chart-c3840b3d-1465-4ca0-be56-f3f05a596447 .tooltip .label{fill:rgba(0,0,0,.87)}#chart-c3840b3d-1465-4ca0-be56-f3f05a596447 .tooltip .label{fill:rgba(0,0,0,.87)}#chart-c3840b3d-1465-4ca0-be56-f3f05a596447 .tooltip .legend{font-size:.8em;fill:rgba(0,0,0,.54)}#chart-c3840b3d-1465-4ca0-be56-f3f05a596447 .tooltip .x_label{font-size:.6em;fill:rgba(0,0,0,1)}#chart-c3840b3d-1465-4ca0-be56-f3f05a596447 .tooltip .xlink{font-size:.5em;text-decoration:underline}#chart-c3840b3d-1465-4ca0-be56-f3f05a596447 .tooltip .value{font-size:1.5em}#chart-c3840b3d-1465-4ca0-be56-f3f05a596447 .bound{font-size:.5em}#chart-c3840b3d-1465-4ca0-be56-f3f05a596447 .max-value{font-size:.75em;fill:rgba(0,0,0,.54)}#chart-c3840b3d-1465-4ca0-be56-f3f05a596447 .map-element{fill:rgba(255,255,255,1);stroke:rgba(0,0,0,.54) !important}#chart-c3840b3d-1465-4ca0-be56-f3f05a596447 .map-element .reactive{fill-opacity:inherit;stroke-opacity:inherit}#chart-c3840b3d-1465-4ca0-be56-f3f05a596447 .color-0,#chart-c3840b3d-1465-4ca0-be56-f3f05a596447 .color-0 a:visited{stroke:#F44336;fill:#F44336}#chart-c3840b3d-1465-4ca0-be56-f3f05a596447 .color-1,#chart-c3840b3d-1465-4ca0-be56-f3f05a596447 .color-1 a:visited{stroke:#3F51B5;fill:#3F51B5}#chart-c3840b3d-1465-4ca0-be56-f3f05a596447 .text-overlay .color-0 text{fill:black}#chart-c3840b3d-1465-4ca0-be56-f3f05a596447 .text-overlay .color-1 text{fill:black}\n",
       "#chart-c3840b3d-1465-4ca0-be56-f3f05a596447 text.no_data{text-anchor:middle}#chart-c3840b3d-1465-4ca0-be56-f3f05a596447 .guide.line{fill:none}#chart-c3840b3d-1465-4ca0-be56-f3f05a596447 .centered{text-anchor:middle}#chart-c3840b3d-1465-4ca0-be56-f3f05a596447 .title{text-anchor:middle}#chart-c3840b3d-1465-4ca0-be56-f3f05a596447 .legends .legend text{fill-opacity:1}#chart-c3840b3d-1465-4ca0-be56-f3f05a596447 .axis.x text{text-anchor:middle}#chart-c3840b3d-1465-4ca0-be56-f3f05a596447 .axis.x:not(.web) text[transform]{text-anchor:start}#chart-c3840b3d-1465-4ca0-be56-f3f05a596447 .axis.x:not(.web) text[transform].backwards{text-anchor:end}#chart-c3840b3d-1465-4ca0-be56-f3f05a596447 .axis.y text{text-anchor:end}#chart-c3840b3d-1465-4ca0-be56-f3f05a596447 .axis.y text[transform].backwards{text-anchor:start}#chart-c3840b3d-1465-4ca0-be56-f3f05a596447 .axis.y2 text{text-anchor:start}#chart-c3840b3d-1465-4ca0-be56-f3f05a596447 .axis.y2 text[transform].backwards{text-anchor:end}#chart-c3840b3d-1465-4ca0-be56-f3f05a596447 .axis .guide.line{stroke-dasharray:4,4;stroke:black}#chart-c3840b3d-1465-4ca0-be56-f3f05a596447 .axis .major.guide.line{stroke-dasharray:6,6;stroke:black}#chart-c3840b3d-1465-4ca0-be56-f3f05a596447 .horizontal .axis.y .guide.line,#chart-c3840b3d-1465-4ca0-be56-f3f05a596447 .horizontal .axis.y2 .guide.line,#chart-c3840b3d-1465-4ca0-be56-f3f05a596447 .vertical .axis.x .guide.line{opacity:0}#chart-c3840b3d-1465-4ca0-be56-f3f05a596447 .horizontal .axis.always_show .guide.line,#chart-c3840b3d-1465-4ca0-be56-f3f05a596447 .vertical .axis.always_show .guide.line{opacity:1 !important}#chart-c3840b3d-1465-4ca0-be56-f3f05a596447 .axis.y .guides:hover .guide.line,#chart-c3840b3d-1465-4ca0-be56-f3f05a596447 .axis.y2 .guides:hover .guide.line,#chart-c3840b3d-1465-4ca0-be56-f3f05a596447 .axis.x .guides:hover .guide.line{opacity:1}#chart-c3840b3d-1465-4ca0-be56-f3f05a596447 .axis .guides:hover text{opacity:1}#chart-c3840b3d-1465-4ca0-be56-f3f05a596447 .nofill{fill:none}#chart-c3840b3d-1465-4ca0-be56-f3f05a596447 .subtle-fill{fill-opacity:.2}#chart-c3840b3d-1465-4ca0-be56-f3f05a596447 .dot{stroke-width:1px;fill-opacity:1;stroke-opacity:1}#chart-c3840b3d-1465-4ca0-be56-f3f05a596447 .dot.active{stroke-width:5px}#chart-c3840b3d-1465-4ca0-be56-f3f05a596447 .dot.negative{fill:transparent}#chart-c3840b3d-1465-4ca0-be56-f3f05a596447 text,#chart-c3840b3d-1465-4ca0-be56-f3f05a596447 tspan{stroke:none !important}#chart-c3840b3d-1465-4ca0-be56-f3f05a596447 .series text.active{opacity:1}#chart-c3840b3d-1465-4ca0-be56-f3f05a596447 .tooltip rect{fill-opacity:.95;stroke-width:.5}#chart-c3840b3d-1465-4ca0-be56-f3f05a596447 .tooltip text{fill-opacity:1}#chart-c3840b3d-1465-4ca0-be56-f3f05a596447 .showable{visibility:hidden}#chart-c3840b3d-1465-4ca0-be56-f3f05a596447 .showable.shown{visibility:visible}#chart-c3840b3d-1465-4ca0-be56-f3f05a596447 .gauge-background{fill:rgba(229,229,229,1);stroke:none}#chart-c3840b3d-1465-4ca0-be56-f3f05a596447 .bg-lines{stroke:rgba(249,249,249,1);stroke-width:2px}</style><script type=\"text/javascript\">window.pygal = window.pygal || {};window.pygal.config = window.pygal.config || {};window.pygal.config['c3840b3d-1465-4ca0-be56-f3f05a596447'] = {\"allow_interruptions\": false, \"box_mode\": \"extremes\", \"classes\": [\"pygal-chart\"], \"css\": [\"file://style.css\", \"file://graph.css\"], \"defs\": [], \"disable_xml_declaration\": false, \"dots_size\": 2.5, \"dynamic_print_values\": false, \"explicit_size\": false, \"fill\": false, \"force_uri_protocol\": \"https\", \"formatter\": null, \"half_pie\": false, \"height\": 600, \"include_x_axis\": false, \"inner_radius\": 0, \"interpolate\": null, \"interpolation_parameters\": {}, \"interpolation_precision\": 250, \"inverse_y_axis\": false, \"js\": [\"//kozea.github.io/pygal.js/2.0.x/pygal-tooltips.min.js\"], \"legend_at_bottom\": false, \"legend_at_bottom_columns\": null, \"legend_box_size\": 12, \"logarithmic\": false, \"margin\": 20, \"margin_bottom\": null, \"margin_left\": null, \"margin_right\": null, \"margin_top\": null, \"max_scale\": 16, \"min_scale\": 4, \"missing_value_fill_truncation\": \"x\", \"no_data_text\": \"No data\", \"no_prefix\": false, \"order_min\": null, \"pretty_print\": false, \"print_labels\": false, \"print_values\": false, \"print_values_position\": \"center\", \"print_zeroes\": true, \"range\": null, \"rounded_bars\": null, \"secondary_range\": null, \"show_dots\": true, \"show_legend\": true, \"show_minor_x_labels\": true, \"show_minor_y_labels\": true, \"show_only_major_dots\": false, \"show_x_guides\": false, \"show_x_labels\": true, \"show_y_guides\": true, \"show_y_labels\": true, \"spacing\": 10, \"stack_from_top\": false, \"strict\": false, \"stroke\": true, \"stroke_style\": null, \"style\": {\"background\": \"rgba(249, 249, 249, 1)\", \"ci_colors\": [], \"colors\": [\"#F44336\", \"#3F51B5\", \"#009688\", \"#FFC107\", \"#FF5722\", \"#9C27B0\", \"#03A9F4\", \"#8BC34A\", \"#FF9800\", \"#E91E63\", \"#2196F3\", \"#4CAF50\", \"#FFEB3B\", \"#673AB7\", \"#00BCD4\", \"#CDDC39\", \"#9E9E9E\", \"#607D8B\"], \"dot_opacity\": \"1\", \"font_family\": \"Consolas, \\\"Liberation Mono\\\", Menlo, Courier, monospace\", \"foreground\": \"rgba(0, 0, 0, .87)\", \"foreground_strong\": \"rgba(0, 0, 0, 1)\", \"foreground_subtle\": \"rgba(0, 0, 0, .54)\", \"guide_stroke_color\": \"black\", \"guide_stroke_dasharray\": \"4,4\", \"label_font_family\": \"Consolas, \\\"Liberation Mono\\\", Menlo, Courier, monospace\", \"label_font_size\": 10, \"legend_font_family\": \"Consolas, \\\"Liberation Mono\\\", Menlo, Courier, monospace\", \"legend_font_size\": 14, \"major_guide_stroke_color\": \"black\", \"major_guide_stroke_dasharray\": \"6,6\", \"major_label_font_family\": \"Consolas, \\\"Liberation Mono\\\", Menlo, Courier, monospace\", \"major_label_font_size\": 10, \"no_data_font_family\": \"Consolas, \\\"Liberation Mono\\\", Menlo, Courier, monospace\", \"no_data_font_size\": 64, \"opacity\": \".7\", \"opacity_hover\": \".8\", \"plot_background\": \"rgba(255, 255, 255, 1)\", \"stroke_opacity\": \".8\", \"stroke_opacity_hover\": \".9\", \"stroke_width\": \"1\", \"stroke_width_hover\": \"4\", \"title_font_family\": \"Consolas, \\\"Liberation Mono\\\", Menlo, Courier, monospace\", \"title_font_size\": 16, \"tooltip_font_family\": \"Consolas, \\\"Liberation Mono\\\", Menlo, Courier, monospace\", \"tooltip_font_size\": 14, \"transition\": \"150ms\", \"value_background\": \"rgba(229, 229, 229, 1)\", \"value_colors\": [], \"value_font_family\": \"Consolas, \\\"Liberation Mono\\\", Menlo, Courier, monospace\", \"value_font_size\": 16, \"value_label_font_family\": \"Consolas, \\\"Liberation Mono\\\", Menlo, Courier, monospace\", \"value_label_font_size\": 10}, \"title\": \"Age Vs At Fault Distribution\", \"tooltip_border_radius\": 0, \"tooltip_fancy_mode\": true, \"truncate_label\": null, \"truncate_legend\": null, \"width\": 800, \"x_label_rotation\": 0, \"x_labels\": null, \"x_labels_major\": null, \"x_labels_major_count\": null, \"x_labels_major_every\": null, \"x_title\": null, \"xrange\": null, \"y_label_rotation\": 0, \"y_labels\": null, \"y_labels_major\": null, \"y_labels_major_count\": null, \"y_labels_major_every\": null, \"y_title\": null, \"zero\": 0, \"legends\": [\"At Fault\", \"Not At Fault\"]}</script><script type=\"text/javascript\" xlink:href=\"https://kozea.github.io/pygal.js/2.0.x/pygal-tooltips.min.js\"/></defs><title>Age Vs At Fault Distribution</title><g class=\"graph box-graph vertical\"><rect x=\"0\" y=\"0\" width=\"800\" height=\"600\" class=\"background\"/><g transform=\"translate(170, 46)\" class=\"plot\"><rect x=\"0\" y=\"0\" width=\"609.2\" height=\"534\" class=\"background\"/><g class=\"axis y always_show\"><g class=\"guides\"><path d=\"M0.000000 523.730769 h609.200000\" class=\"axis major line\"/><text x=\"-5\" y=\"527.2307692307693\" class=\"major\">0</text><title>0</title></g><g class=\"guides\"><path d=\"M0.000000 474.829670 h609.200000\" class=\"guide line\"/><text x=\"-5\" y=\"478.3296703296703\" class=\"\">10</text><title>10</title></g><g class=\"guides\"><path d=\"M0.000000 425.928571 h609.200000\" class=\"guide line\"/><text x=\"-5\" y=\"429.4285714285714\" class=\"\">20</text><title>20</title></g><g class=\"guides\"><path d=\"M0.000000 377.027473 h609.200000\" class=\"guide line\"/><text x=\"-5\" y=\"380.52747252747247\" class=\"\">30</text><title>30</title></g><g class=\"guides\"><path d=\"M0.000000 328.126374 h609.200000\" class=\"guide line\"/><text x=\"-5\" y=\"331.6263736263736\" class=\"\">40</text><title>40</title></g><g class=\"guides\"><path d=\"M0.000000 279.225275 h609.200000\" class=\"major guide line\"/><text x=\"-5\" y=\"282.7252747252747\" class=\"major\">50</text><title>50</title></g><g class=\"guides\"><path d=\"M0.000000 230.324176 h609.200000\" class=\"guide line\"/><text x=\"-5\" y=\"233.82417582417577\" class=\"\">60</text><title>60</title></g><g class=\"guides\"><path d=\"M0.000000 181.423077 h609.200000\" class=\"guide line\"/><text x=\"-5\" y=\"184.92307692307696\" class=\"\">70</text><title>70</title></g><g class=\"guides\"><path d=\"M0.000000 132.521978 h609.200000\" class=\"guide line\"/><text x=\"-5\" y=\"136.02197802197804\" class=\"\">80</text><title>80</title></g><g class=\"guides\"><path d=\"M0.000000 83.620879 h609.200000\" class=\"guide line\"/><text x=\"-5\" y=\"87.12087912087912\" class=\"\">90</text><title>90</title></g><g class=\"guides\"><path d=\"M0.000000 34.719780 h609.200000\" class=\"major guide line\"/><text x=\"-5\" y=\"38.219780219780205\" class=\"major\">100</text><title>100</title></g></g><g class=\"series serie-0 color-0\"><g class=\"boxes\"><g class=\"box\"><path stroke-width=\"3\" d=\"M93.723077 523.730769 L222.592308 523.730769\" class=\"reactive tooltip-trigger\"/><path stroke-width=\"3\" d=\"M29.288462 362.357143 L287.026923 362.357143\" class=\"reactive tooltip-trigger\"/><path stroke-width=\"3\" d=\"M93.723077 10.269231 L222.592308 10.269231\" class=\"reactive tooltip-trigger\"/><path stroke-width=\"2\" d=\"M158.157692 523.730769 L158.157692 411.258242\" class=\"reactive tooltip-trigger\"/><path stroke-width=\"2\" d=\"M158.157692 10.269231 L158.157692 284.115385\" class=\"reactive tooltip-trigger\"/><rect x=\"29.28846153846154\" y=\"284.1153846153846\" height=\"127.14285714285717\" width=\"257.73846153846154\" class=\"subtle-fill reactive tooltip-trigger\"/><desc class=\"value\">Min: 0\n",
       "Q1 : 23\n",
       "Q2 : 33\n",
       "Q3 : 49\n",
       "Max: 105</desc><desc class=\"x centered\">158.15769230769232</desc><desc class=\"y centered\">318.3461538461538</desc></g></g></g><g class=\"series serie-1 color-1\"><g class=\"boxes\"><g class=\"box\"><path stroke-width=\"3\" d=\"M386.607692 523.730769 L515.476923 523.730769\" class=\"reactive tooltip-trigger\"/><path stroke-width=\"3\" d=\"M322.173077 333.016484 L579.911538 333.016484\" class=\"reactive tooltip-trigger\"/><path stroke-width=\"3\" d=\"M386.607692 10.269231 L515.476923 10.269231\" class=\"reactive tooltip-trigger\"/><path stroke-width=\"2\" d=\"M451.042308 523.730769 L451.042308 391.697802\" class=\"reactive tooltip-trigger\"/><path stroke-width=\"2\" d=\"M451.042308 10.269231 L451.042308 269.445055\" class=\"reactive tooltip-trigger\"/><rect x=\"322.1730769230769\" y=\"269.4450549450549\" height=\"122.25274725274727\" width=\"257.73846153846154\" class=\"subtle-fill reactive tooltip-trigger\"/><desc class=\"value\">Min: 0\n",
       "Q1 : 27\n",
       "Q2 : 39\n",
       "Q3 : 52\n",
       "Max: 105</desc><desc class=\"x centered\">451.04230769230765</desc><desc class=\"y centered\">305.6318681318681</desc></g></g></g></g><g class=\"titles\"><text x=\"400.0\" y=\"26\" class=\"title plot_title\">Age Vs At Fault Distribution</text></g><g transform=\"translate(170, 46)\" class=\"plot overlay\"><g class=\"series serie-0 color-0\"/><g class=\"series serie-1 color-1\"/></g><g transform=\"translate(170, 46)\" class=\"plot text-overlay\"><g class=\"series serie-0 color-0\"/><g class=\"series serie-1 color-1\"/></g><g transform=\"translate(170, 46)\" class=\"plot tooltip-overlay\"><g transform=\"translate(0 0)\" style=\"opacity: 0\" class=\"tooltip\"><rect rx=\"0\" ry=\"0\" width=\"0\" height=\"0\" class=\"tooltip-box\"/><g class=\"text\"/></g></g><g transform=\"translate(10, 56)\" class=\"legends\"><g id=\"activate-serie-0\" class=\"legend reactive activate-serie\"><rect x=\"0.0\" y=\"1.0\" width=\"12\" height=\"12\" class=\"color-0 reactive\"/><text x=\"17.0\" y=\"11.2\">At Fault</text></g><g id=\"activate-serie-1\" class=\"legend reactive activate-serie\"><rect x=\"0.0\" y=\"22.0\" width=\"12\" height=\"12\" class=\"color-1 reactive\"/><text x=\"17.0\" y=\"32.2\">Not At Fault</text></g></g><g transform=\"translate(790, 56)\" class=\"legends\"/></g></svg> \n",
       "    </figure> \n",
       "  </body> \n",
       "</html> \n"
      ],
      "text/plain": [
       "<IPython.core.display.HTML object>"
      ]
     },
     "metadata": {},
     "output_type": "display_data"
    }
   ],
   "source": [
    "box_plot = pygal.Box()\n",
    "box_plot.title = 'Age Vs At Fault Distribution'\n",
    "box_plot.add('At Fault',data[data['at_fault']==1]['party_age'].dropna().values)\n",
    "box_plot.add('Not At Fault',data[data['at_fault']==0]['party_age'].dropna().values)\n",
    "display(HTML(base_html.format(rendered_chart=box_plot.render(is_unicode=True)))) "
   ]
  },
  {
   "cell_type": "markdown",
   "id": "eeff5541",
   "metadata": {},
   "source": [
    "### Does Directions Effect The Number Of Accidents？"
   ]
  },
  {
   "cell_type": "code",
   "execution_count": 10,
   "id": "284976cb",
   "metadata": {},
   "outputs": [],
   "source": [
    "direction=data.groupby('direction_of_travel').count()\n",
    "x=direction['case_id'].values\n",
    "t=[]\n",
    "for i in range(len(x)):\n",
    "    t.append(x[i]*100/len(data))"
   ]
  },
  {
   "cell_type": "code",
   "execution_count": 11,
   "id": "0c121ba2",
   "metadata": {},
   "outputs": [
    {
     "data": {
      "text/html": [
       " \n",
       "<!DOCTYPE html> \n",
       "<html> \n",
       "  <head> \n",
       "  <script type=\"text/javascript\" src=\"http://kozea.github.com/pygal.js/javascripts/svg.jquery.js\"></script> \n",
       "  <script type=\"text/javascript\" src=\"https://kozea.github.io/pygal.js/2.0.x/pygal-tooltips.min.js\"\"></script> \n",
       "  </head> \n",
       "  <body> \n",
       "    <figure> \n",
       "      <?xml version='1.0' encoding='utf-8'?>\n",
       "<svg xmlns=\"http://www.w3.org/2000/svg\" xmlns:xlink=\"http://www.w3.org/1999/xlink\" id=\"chart-2dde49f1-c8d2-435c-8a6f-07065efbd4ed\" class=\"pygal-chart\" viewBox=\"0 0 800 600\"><!--Generated with pygal 3.0.0 (lxml) ©Kozea 2012-2016 on 2023-11-06--><!--http://pygal.org--><!--http://github.com/Kozea/pygal--><defs><style type=\"text/css\">#chart-2dde49f1-c8d2-435c-8a6f-07065efbd4ed{-webkit-user-select:none;-webkit-font-smoothing:antialiased;font-family:Consolas,\"Liberation Mono\",Menlo,Courier,monospace}#chart-2dde49f1-c8d2-435c-8a6f-07065efbd4ed .title{font-family:Consolas,\"Liberation Mono\",Menlo,Courier,monospace;font-size:16px}#chart-2dde49f1-c8d2-435c-8a6f-07065efbd4ed .legends .legend text{font-family:Consolas,\"Liberation Mono\",Menlo,Courier,monospace;font-size:14px}#chart-2dde49f1-c8d2-435c-8a6f-07065efbd4ed .axis text{font-family:Consolas,\"Liberation Mono\",Menlo,Courier,monospace;font-size:10px}#chart-2dde49f1-c8d2-435c-8a6f-07065efbd4ed .axis text.major{font-family:Consolas,\"Liberation Mono\",Menlo,Courier,monospace;font-size:10px}#chart-2dde49f1-c8d2-435c-8a6f-07065efbd4ed .text-overlay text.value{font-family:Consolas,\"Liberation Mono\",Menlo,Courier,monospace;font-size:10px}#chart-2dde49f1-c8d2-435c-8a6f-07065efbd4ed .text-overlay text.label{font-family:Consolas,\"Liberation Mono\",Menlo,Courier,monospace;font-size:10px}#chart-2dde49f1-c8d2-435c-8a6f-07065efbd4ed .tooltip{font-family:Consolas,\"Liberation Mono\",Menlo,Courier,monospace;font-size:14px}#chart-2dde49f1-c8d2-435c-8a6f-07065efbd4ed text.no_data{font-family:Consolas,\"Liberation Mono\",Menlo,Courier,monospace;font-size:64px}\n",
       "#chart-2dde49f1-c8d2-435c-8a6f-07065efbd4ed{background-color:rgba(249,249,249,1)}#chart-2dde49f1-c8d2-435c-8a6f-07065efbd4ed path,#chart-2dde49f1-c8d2-435c-8a6f-07065efbd4ed line,#chart-2dde49f1-c8d2-435c-8a6f-07065efbd4ed rect,#chart-2dde49f1-c8d2-435c-8a6f-07065efbd4ed circle{-webkit-transition:150ms;-moz-transition:150ms;transition:150ms}#chart-2dde49f1-c8d2-435c-8a6f-07065efbd4ed .graph &gt; .background{fill:rgba(249,249,249,1)}#chart-2dde49f1-c8d2-435c-8a6f-07065efbd4ed .plot &gt; .background{fill:rgba(255,255,255,1)}#chart-2dde49f1-c8d2-435c-8a6f-07065efbd4ed .graph{fill:rgba(0,0,0,.87)}#chart-2dde49f1-c8d2-435c-8a6f-07065efbd4ed text.no_data{fill:rgba(0,0,0,1)}#chart-2dde49f1-c8d2-435c-8a6f-07065efbd4ed .title{fill:rgba(0,0,0,1)}#chart-2dde49f1-c8d2-435c-8a6f-07065efbd4ed .legends .legend text{fill:rgba(0,0,0,.87)}#chart-2dde49f1-c8d2-435c-8a6f-07065efbd4ed .legends .legend:hover text{fill:rgba(0,0,0,1)}#chart-2dde49f1-c8d2-435c-8a6f-07065efbd4ed .axis .line{stroke:rgba(0,0,0,1)}#chart-2dde49f1-c8d2-435c-8a6f-07065efbd4ed .axis .guide.line{stroke:rgba(0,0,0,.54)}#chart-2dde49f1-c8d2-435c-8a6f-07065efbd4ed .axis .major.line{stroke:rgba(0,0,0,.87)}#chart-2dde49f1-c8d2-435c-8a6f-07065efbd4ed .axis text.major{fill:rgba(0,0,0,1)}#chart-2dde49f1-c8d2-435c-8a6f-07065efbd4ed .axis.y .guides:hover .guide.line,#chart-2dde49f1-c8d2-435c-8a6f-07065efbd4ed .line-graph .axis.x .guides:hover .guide.line,#chart-2dde49f1-c8d2-435c-8a6f-07065efbd4ed .stackedline-graph .axis.x .guides:hover .guide.line,#chart-2dde49f1-c8d2-435c-8a6f-07065efbd4ed .xy-graph .axis.x .guides:hover .guide.line{stroke:rgba(0,0,0,1)}#chart-2dde49f1-c8d2-435c-8a6f-07065efbd4ed .axis .guides:hover text{fill:rgba(0,0,0,1)}#chart-2dde49f1-c8d2-435c-8a6f-07065efbd4ed .reactive{fill-opacity:.7;stroke-opacity:.8;stroke-width:1}#chart-2dde49f1-c8d2-435c-8a6f-07065efbd4ed .ci{stroke:rgba(0,0,0,.87)}#chart-2dde49f1-c8d2-435c-8a6f-07065efbd4ed .reactive.active,#chart-2dde49f1-c8d2-435c-8a6f-07065efbd4ed .active .reactive{fill-opacity:.8;stroke-opacity:.9;stroke-width:4}#chart-2dde49f1-c8d2-435c-8a6f-07065efbd4ed .ci .reactive.active{stroke-width:1.5}#chart-2dde49f1-c8d2-435c-8a6f-07065efbd4ed .series text{fill:rgba(0,0,0,1)}#chart-2dde49f1-c8d2-435c-8a6f-07065efbd4ed .tooltip rect{fill:rgba(255,255,255,1);stroke:rgba(0,0,0,1);-webkit-transition:opacity 150ms;-moz-transition:opacity 150ms;transition:opacity 150ms}#chart-2dde49f1-c8d2-435c-8a6f-07065efbd4ed .tooltip .label{fill:rgba(0,0,0,.87)}#chart-2dde49f1-c8d2-435c-8a6f-07065efbd4ed .tooltip .label{fill:rgba(0,0,0,.87)}#chart-2dde49f1-c8d2-435c-8a6f-07065efbd4ed .tooltip .legend{font-size:.8em;fill:rgba(0,0,0,.54)}#chart-2dde49f1-c8d2-435c-8a6f-07065efbd4ed .tooltip .x_label{font-size:.6em;fill:rgba(0,0,0,1)}#chart-2dde49f1-c8d2-435c-8a6f-07065efbd4ed .tooltip .xlink{font-size:.5em;text-decoration:underline}#chart-2dde49f1-c8d2-435c-8a6f-07065efbd4ed .tooltip .value{font-size:1.5em}#chart-2dde49f1-c8d2-435c-8a6f-07065efbd4ed .bound{font-size:.5em}#chart-2dde49f1-c8d2-435c-8a6f-07065efbd4ed .max-value{font-size:.75em;fill:rgba(0,0,0,.54)}#chart-2dde49f1-c8d2-435c-8a6f-07065efbd4ed .map-element{fill:rgba(255,255,255,1);stroke:rgba(0,0,0,.54) !important}#chart-2dde49f1-c8d2-435c-8a6f-07065efbd4ed .map-element .reactive{fill-opacity:inherit;stroke-opacity:inherit}#chart-2dde49f1-c8d2-435c-8a6f-07065efbd4ed .color-0,#chart-2dde49f1-c8d2-435c-8a6f-07065efbd4ed .color-0 a:visited{stroke:#F44336;fill:#F44336}#chart-2dde49f1-c8d2-435c-8a6f-07065efbd4ed .color-1,#chart-2dde49f1-c8d2-435c-8a6f-07065efbd4ed .color-1 a:visited{stroke:#3F51B5;fill:#3F51B5}#chart-2dde49f1-c8d2-435c-8a6f-07065efbd4ed .color-2,#chart-2dde49f1-c8d2-435c-8a6f-07065efbd4ed .color-2 a:visited{stroke:#009688;fill:#009688}#chart-2dde49f1-c8d2-435c-8a6f-07065efbd4ed .color-3,#chart-2dde49f1-c8d2-435c-8a6f-07065efbd4ed .color-3 a:visited{stroke:#FFC107;fill:#FFC107}#chart-2dde49f1-c8d2-435c-8a6f-07065efbd4ed .text-overlay .color-0 text{fill:black}#chart-2dde49f1-c8d2-435c-8a6f-07065efbd4ed .text-overlay .color-1 text{fill:black}#chart-2dde49f1-c8d2-435c-8a6f-07065efbd4ed .text-overlay .color-2 text{fill:black}#chart-2dde49f1-c8d2-435c-8a6f-07065efbd4ed .text-overlay .color-3 text{fill:black}\n",
       "#chart-2dde49f1-c8d2-435c-8a6f-07065efbd4ed text.no_data{text-anchor:middle}#chart-2dde49f1-c8d2-435c-8a6f-07065efbd4ed .guide.line{fill:none}#chart-2dde49f1-c8d2-435c-8a6f-07065efbd4ed .centered{text-anchor:middle}#chart-2dde49f1-c8d2-435c-8a6f-07065efbd4ed .title{text-anchor:middle}#chart-2dde49f1-c8d2-435c-8a6f-07065efbd4ed .legends .legend text{fill-opacity:1}#chart-2dde49f1-c8d2-435c-8a6f-07065efbd4ed .axis.x text{text-anchor:middle}#chart-2dde49f1-c8d2-435c-8a6f-07065efbd4ed .axis.x:not(.web) text[transform]{text-anchor:start}#chart-2dde49f1-c8d2-435c-8a6f-07065efbd4ed .axis.x:not(.web) text[transform].backwards{text-anchor:end}#chart-2dde49f1-c8d2-435c-8a6f-07065efbd4ed .axis.y text{text-anchor:end}#chart-2dde49f1-c8d2-435c-8a6f-07065efbd4ed .axis.y text[transform].backwards{text-anchor:start}#chart-2dde49f1-c8d2-435c-8a6f-07065efbd4ed .axis.y2 text{text-anchor:start}#chart-2dde49f1-c8d2-435c-8a6f-07065efbd4ed .axis.y2 text[transform].backwards{text-anchor:end}#chart-2dde49f1-c8d2-435c-8a6f-07065efbd4ed .axis .guide.line{stroke-dasharray:4,4;stroke:black}#chart-2dde49f1-c8d2-435c-8a6f-07065efbd4ed .axis .major.guide.line{stroke-dasharray:6,6;stroke:black}#chart-2dde49f1-c8d2-435c-8a6f-07065efbd4ed .horizontal .axis.y .guide.line,#chart-2dde49f1-c8d2-435c-8a6f-07065efbd4ed .horizontal .axis.y2 .guide.line,#chart-2dde49f1-c8d2-435c-8a6f-07065efbd4ed .vertical .axis.x .guide.line{opacity:0}#chart-2dde49f1-c8d2-435c-8a6f-07065efbd4ed .horizontal .axis.always_show .guide.line,#chart-2dde49f1-c8d2-435c-8a6f-07065efbd4ed .vertical .axis.always_show .guide.line{opacity:1 !important}#chart-2dde49f1-c8d2-435c-8a6f-07065efbd4ed .axis.y .guides:hover .guide.line,#chart-2dde49f1-c8d2-435c-8a6f-07065efbd4ed .axis.y2 .guides:hover .guide.line,#chart-2dde49f1-c8d2-435c-8a6f-07065efbd4ed .axis.x .guides:hover .guide.line{opacity:1}#chart-2dde49f1-c8d2-435c-8a6f-07065efbd4ed .axis .guides:hover text{opacity:1}#chart-2dde49f1-c8d2-435c-8a6f-07065efbd4ed .nofill{fill:none}#chart-2dde49f1-c8d2-435c-8a6f-07065efbd4ed .subtle-fill{fill-opacity:.2}#chart-2dde49f1-c8d2-435c-8a6f-07065efbd4ed .dot{stroke-width:1px;fill-opacity:1;stroke-opacity:1}#chart-2dde49f1-c8d2-435c-8a6f-07065efbd4ed .dot.active{stroke-width:5px}#chart-2dde49f1-c8d2-435c-8a6f-07065efbd4ed .dot.negative{fill:transparent}#chart-2dde49f1-c8d2-435c-8a6f-07065efbd4ed text,#chart-2dde49f1-c8d2-435c-8a6f-07065efbd4ed tspan{stroke:none !important}#chart-2dde49f1-c8d2-435c-8a6f-07065efbd4ed .series text.active{opacity:1}#chart-2dde49f1-c8d2-435c-8a6f-07065efbd4ed .tooltip rect{fill-opacity:.95;stroke-width:.5}#chart-2dde49f1-c8d2-435c-8a6f-07065efbd4ed .tooltip text{fill-opacity:1}#chart-2dde49f1-c8d2-435c-8a6f-07065efbd4ed .showable{visibility:hidden}#chart-2dde49f1-c8d2-435c-8a6f-07065efbd4ed .showable.shown{visibility:visible}#chart-2dde49f1-c8d2-435c-8a6f-07065efbd4ed .gauge-background{fill:rgba(229,229,229,1);stroke:none}#chart-2dde49f1-c8d2-435c-8a6f-07065efbd4ed .bg-lines{stroke:rgba(249,249,249,1);stroke-width:2px}</style><script type=\"text/javascript\">window.pygal = window.pygal || {};window.pygal.config = window.pygal.config || {};window.pygal.config['2dde49f1-c8d2-435c-8a6f-07065efbd4ed'] = {\"allow_interruptions\": false, \"box_mode\": \"extremes\", \"classes\": [\"pygal-chart\"], \"css\": [\"file://style.css\", \"file://graph.css\"], \"defs\": [], \"disable_xml_declaration\": false, \"dots_size\": 2.5, \"dynamic_print_values\": false, \"explicit_size\": false, \"fill\": false, \"force_uri_protocol\": \"https\", \"formatter\": null, \"half_pie\": true, \"height\": 600, \"include_x_axis\": false, \"inner_radius\": 0.7, \"interpolate\": null, \"interpolation_parameters\": {}, \"interpolation_precision\": 250, \"inverse_y_axis\": false, \"js\": [\"//kozea.github.io/pygal.js/2.0.x/pygal-tooltips.min.js\"], \"legend_at_bottom\": false, \"legend_at_bottom_columns\": null, \"legend_box_size\": 12, \"logarithmic\": false, \"margin\": 20, \"margin_bottom\": null, \"margin_left\": null, \"margin_right\": null, \"margin_top\": null, \"max_scale\": 16, \"min_scale\": 4, \"missing_value_fill_truncation\": \"x\", \"no_data_text\": \"No data\", \"no_prefix\": false, \"order_min\": null, \"pretty_print\": false, \"print_labels\": false, \"print_values\": false, \"print_values_position\": \"center\", \"print_zeroes\": true, \"range\": null, \"rounded_bars\": null, \"secondary_range\": null, \"show_dots\": true, \"show_legend\": true, \"show_minor_x_labels\": true, \"show_minor_y_labels\": true, \"show_only_major_dots\": false, \"show_x_guides\": false, \"show_x_labels\": true, \"show_y_guides\": true, \"show_y_labels\": true, \"spacing\": 10, \"stack_from_top\": false, \"strict\": false, \"stroke\": true, \"stroke_style\": null, \"style\": {\"background\": \"rgba(249, 249, 249, 1)\", \"ci_colors\": [], \"colors\": [\"#F44336\", \"#3F51B5\", \"#009688\", \"#FFC107\", \"#FF5722\", \"#9C27B0\", \"#03A9F4\", \"#8BC34A\", \"#FF9800\", \"#E91E63\", \"#2196F3\", \"#4CAF50\", \"#FFEB3B\", \"#673AB7\", \"#00BCD4\", \"#CDDC39\", \"#9E9E9E\", \"#607D8B\"], \"dot_opacity\": \"1\", \"font_family\": \"Consolas, \\\"Liberation Mono\\\", Menlo, Courier, monospace\", \"foreground\": \"rgba(0, 0, 0, .87)\", \"foreground_strong\": \"rgba(0, 0, 0, 1)\", \"foreground_subtle\": \"rgba(0, 0, 0, .54)\", \"guide_stroke_color\": \"black\", \"guide_stroke_dasharray\": \"4,4\", \"label_font_family\": \"Consolas, \\\"Liberation Mono\\\", Menlo, Courier, monospace\", \"label_font_size\": 10, \"legend_font_family\": \"Consolas, \\\"Liberation Mono\\\", Menlo, Courier, monospace\", \"legend_font_size\": 14, \"major_guide_stroke_color\": \"black\", \"major_guide_stroke_dasharray\": \"6,6\", \"major_label_font_family\": \"Consolas, \\\"Liberation Mono\\\", Menlo, Courier, monospace\", \"major_label_font_size\": 10, \"no_data_font_family\": \"Consolas, \\\"Liberation Mono\\\", Menlo, Courier, monospace\", \"no_data_font_size\": 64, \"opacity\": \".7\", \"opacity_hover\": \".8\", \"plot_background\": \"rgba(255, 255, 255, 1)\", \"stroke_opacity\": \".8\", \"stroke_opacity_hover\": \".9\", \"stroke_width\": \"1\", \"stroke_width_hover\": \"4\", \"title_font_family\": \"Consolas, \\\"Liberation Mono\\\", Menlo, Courier, monospace\", \"title_font_size\": 16, \"tooltip_font_family\": \"Consolas, \\\"Liberation Mono\\\", Menlo, Courier, monospace\", \"tooltip_font_size\": 14, \"transition\": \"150ms\", \"value_background\": \"rgba(229, 229, 229, 1)\", \"value_colors\": [], \"value_font_family\": \"Consolas, \\\"Liberation Mono\\\", Menlo, Courier, monospace\", \"value_font_size\": 10, \"value_label_font_family\": \"Consolas, \\\"Liberation Mono\\\", Menlo, Courier, monospace\", \"value_label_font_size\": 10}, \"title\": null, \"tooltip_border_radius\": 0, \"tooltip_fancy_mode\": true, \"truncate_label\": null, \"truncate_legend\": null, \"width\": 800, \"x_label_rotation\": 0, \"x_labels\": null, \"x_labels_major\": null, \"x_labels_major_count\": null, \"x_labels_major_every\": null, \"x_title\": null, \"xrange\": null, \"y_label_rotation\": 0, \"y_labels\": null, \"y_labels_major\": null, \"y_labels_major_count\": null, \"y_labels_major_every\": null, \"y_title\": null, \"zero\": 0, \"legends\": [\"east\", \"north\", \"south\", \"west\"]}</script><script type=\"text/javascript\" xlink:href=\"https://kozea.github.io/pygal.js/2.0.x/pygal-tooltips.min.js\"/></defs><title>Pygal</title><g class=\"graph solidgauge-graph vertical\"><rect x=\"0\" y=\"0\" width=\"800\" height=\"600\" class=\"background\"/><g transform=\"translate(84, 20)\" class=\"plot\"><rect x=\"0\" y=\"0\" width=\"696.0\" height=\"560\" class=\"background\"/><path d=\"M348.0 0 L348.0 560\" class=\"bg-lines\"/><path d=\"M0 280.0 L696.0 280.0\" class=\"bg-lines\"/><g class=\"series serie-0 color-0\"><path d=\"M48.000000 210.000000 A126.000000 126.000000 0 1 1 300.000000 210.000000 L262.200000 210.000000 A88.200000 88.200000 0 1 0 85.800000 210.000000 z\" class=\"gauge-background reactive\"/><text text-anchor=\"middle\" x=\"66.9\" y=\"220.00000000000003\" class=\"y-0 bound reactive\">0</text><text text-anchor=\"middle\" x=\"281.1\" y=\"220.0\" class=\"y-1 bound reactive\">100%</text><g class=\"gauge\"><path d=\"M48.000000 210.000000 A126.000000 126.000000 0 0 1 77.989897 128.403063 L106.792928 152.882144 A88.200000 88.200000 0 0 0 85.800000 210.000000 z\" class=\"slice reactive tooltip-trigger\"/><desc class=\"value\">22.4225%</desc><desc class=\"x centered\">73.47465563931443</desc><desc class=\"y centered\">173.05321203182092</desc></g></g><g class=\"series serie-1 color-1\"><path d=\"M396.000000 210.000000 A126.000000 126.000000 0 1 1 648.000000 210.000000 L610.200000 210.000000 A88.200000 88.200000 0 1 0 433.800000 210.000000 z\" class=\"gauge-background reactive\"/><text text-anchor=\"middle\" x=\"414.9\" y=\"220.00000000000003\" class=\"y-0 bound reactive\">0</text><text text-anchor=\"middle\" x=\"629.1\" y=\"220.0\" class=\"y-1 bound reactive\">100%</text><g class=\"gauge\"><path d=\"M396.000000 210.000000 A126.000000 126.000000 0 0 1 435.971890 117.939344 L461.780323 145.557541 A88.200000 88.200000 0 0 0 433.800000 210.000000 z\" class=\"slice reactive tooltip-trigger\"/><desc class=\"value\">26.077825%</desc><desc class=\"x centered\">423.7605503149272</desc><desc class=\"y centered\">167.3453340703031</desc></g></g><g class=\"series serie-2 color-2\"><path d=\"M48.000000 490.000000 A126.000000 126.000000 0 1 1 300.000000 490.000000 L262.200000 490.000000 A88.200000 88.200000 0 1 0 85.800000 490.000000 z\" class=\"gauge-background reactive\"/><text text-anchor=\"middle\" x=\"66.9\" y=\"500.0\" class=\"y-0 bound reactive\">0</text><text text-anchor=\"middle\" x=\"281.1\" y=\"500.0\" class=\"y-1 bound reactive\">100%</text><g class=\"gauge\"><path d=\"M48.000000 490.000000 A126.000000 126.000000 0 0 1 88.218611 397.709408 L113.953028 425.396586 A88.200000 88.200000 0 0 0 85.800000 490.000000 z\" class=\"slice reactive tooltip-trigger\"/><desc class=\"value\">26.163025%</desc><desc class=\"x centered\">75.81772380329562</desc><desc class=\"y centered\">447.2138966388144</desc></g></g><g class=\"series serie-3 color-3\"><path d=\"M396.000000 490.000000 A126.000000 126.000000 0 1 1 648.000000 490.000000 L610.200000 490.000000 A88.200000 88.200000 0 1 0 433.800000 490.000000 z\" class=\"gauge-background reactive\"/><text text-anchor=\"middle\" x=\"414.9\" y=\"500.0\" class=\"y-0 bound reactive\">0</text><text text-anchor=\"middle\" x=\"629.1\" y=\"500.0\" class=\"y-1 bound reactive\">100%</text><g class=\"gauge\"><path d=\"M396.000000 490.000000 A126.000000 126.000000 0 0 1 425.878797 408.533968 L454.715158 432.973778 A88.200000 88.200000 0 0 0 433.800000 490.000000 z\" class=\"slice reactive tooltip-trigger\"/><desc class=\"value\">22.379125%</desc><desc class=\"x centered\">421.44950591148256</desc><desc class=\"y centered\">453.12171182721437</desc></g></g></g><g class=\"titles\"/><g transform=\"translate(84, 20)\" class=\"plot overlay\"><g class=\"series serie-0 color-0\"/><g class=\"series serie-1 color-1\"/><g class=\"series serie-2 color-2\"/><g class=\"series serie-3 color-3\"/></g><g transform=\"translate(84, 20)\" class=\"plot text-overlay\"><g class=\"series serie-0 color-0\"><text text-anchor=\"middle\" x=\"174.0\" y=\"213.33333333333334\" class=\"value gauge-sum\">22.4225%</text></g><g class=\"series serie-1 color-1\"><text text-anchor=\"middle\" x=\"522.0\" y=\"213.33333333333334\" class=\"value gauge-sum\">26.077825%</text></g><g class=\"series serie-2 color-2\"><text text-anchor=\"middle\" x=\"174.0\" y=\"493.3333333333333\" class=\"value gauge-sum\">26.163025%</text></g><g class=\"series serie-3 color-3\"><text text-anchor=\"middle\" x=\"522.0\" y=\"493.3333333333333\" class=\"value gauge-sum\">22.379125%</text></g></g><g transform=\"translate(84, 20)\" class=\"plot tooltip-overlay\"><g transform=\"translate(0 0)\" style=\"opacity: 0\" class=\"tooltip\"><rect rx=\"0\" ry=\"0\" width=\"0\" height=\"0\" class=\"tooltip-box\"/><g class=\"text\"/></g></g><g transform=\"translate(10, 30)\" class=\"legends\"><g id=\"activate-serie-0\" class=\"legend reactive activate-serie\"><rect x=\"0.0\" y=\"1.0\" width=\"12\" height=\"12\" class=\"color-0 reactive\"/><text x=\"17.0\" y=\"11.2\">east</text></g><g id=\"activate-serie-1\" class=\"legend reactive activate-serie\"><rect x=\"0.0\" y=\"22.0\" width=\"12\" height=\"12\" class=\"color-1 reactive\"/><text x=\"17.0\" y=\"32.2\">north</text></g><g id=\"activate-serie-2\" class=\"legend reactive activate-serie\"><rect x=\"0.0\" y=\"43.0\" width=\"12\" height=\"12\" class=\"color-2 reactive\"/><text x=\"17.0\" y=\"53.2\">south</text></g><g id=\"activate-serie-3\" class=\"legend reactive activate-serie\"><rect x=\"0.0\" y=\"64.0\" width=\"12\" height=\"12\" class=\"color-3 reactive\"/><text x=\"17.0\" y=\"74.2\">west</text></g></g><g transform=\"translate(790, 30)\" class=\"legends\"/></g></svg> \n",
       "    </figure> \n",
       "  </body> \n",
       "</html> \n"
      ],
      "text/plain": [
       "<IPython.core.display.HTML object>"
      ]
     },
     "metadata": {},
     "output_type": "display_data"
    }
   ],
   "source": [
    "gauge = pygal.SolidGauge(\n",
    "    half_pie=True, inner_radius=0.70,\n",
    "    style=pygal.style.styles['default'](value_font_size=10))\n",
    "\n",
    "percent_formatter = lambda x: '{:.10g}%'.format(x)\n",
    "dollar_formatter = lambda x: '{:.10g}$'.format(x)\n",
    "gauge.value_formatter = percent_formatter\n",
    "for i in range(4):\n",
    "    gauge.add(direction.index[i],[{'value':t[i],'max_value':100}])\n",
    "display(HTML(base_html.format(rendered_chart=gauge.render(is_unicode=True))))"
   ]
  },
  {
   "cell_type": "markdown",
   "id": "9d088cc4",
   "metadata": {},
   "source": [
    "### What's the level of Sobriety of the people and their percentage to leading accidents?"
   ]
  },
  {
   "cell_type": "code",
   "execution_count": 12,
   "id": "addd5476",
   "metadata": {},
   "outputs": [
    {
     "data": {
      "text/html": [
       " \n",
       "<!DOCTYPE html> \n",
       "<html> \n",
       "  <head> \n",
       "  <script type=\"text/javascript\" src=\"http://kozea.github.com/pygal.js/javascripts/svg.jquery.js\"></script> \n",
       "  <script type=\"text/javascript\" src=\"https://kozea.github.io/pygal.js/2.0.x/pygal-tooltips.min.js\"\"></script> \n",
       "  </head> \n",
       "  <body> \n",
       "    <figure> \n",
       "      <?xml version='1.0' encoding='utf-8'?>\n",
       "<svg xmlns=\"http://www.w3.org/2000/svg\" xmlns:xlink=\"http://www.w3.org/1999/xlink\" id=\"chart-bf75bdb5-08cc-4cd5-b350-b22f6b7d074a\" class=\"pygal-chart\" viewBox=\"0 0 800 600\"><!--Generated with pygal 3.0.0 (lxml) ©Kozea 2012-2016 on 2023-11-06--><!--http://pygal.org--><!--http://github.com/Kozea/pygal--><defs><style type=\"text/css\">#chart-bf75bdb5-08cc-4cd5-b350-b22f6b7d074a{-webkit-user-select:none;-webkit-font-smoothing:antialiased;font-family:Consolas,\"Liberation Mono\",Menlo,Courier,monospace}#chart-bf75bdb5-08cc-4cd5-b350-b22f6b7d074a .title{font-family:Consolas,\"Liberation Mono\",Menlo,Courier,monospace;font-size:16px}#chart-bf75bdb5-08cc-4cd5-b350-b22f6b7d074a .legends .legend text{font-family:Consolas,\"Liberation Mono\",Menlo,Courier,monospace;font-size:14px}#chart-bf75bdb5-08cc-4cd5-b350-b22f6b7d074a .axis text{font-family:Consolas,\"Liberation Mono\",Menlo,Courier,monospace;font-size:10px}#chart-bf75bdb5-08cc-4cd5-b350-b22f6b7d074a .axis text.major{font-family:Consolas,\"Liberation Mono\",Menlo,Courier,monospace;font-size:10px}#chart-bf75bdb5-08cc-4cd5-b350-b22f6b7d074a .text-overlay text.value{font-family:Consolas,\"Liberation Mono\",Menlo,Courier,monospace;font-size:16px}#chart-bf75bdb5-08cc-4cd5-b350-b22f6b7d074a .text-overlay text.label{font-family:Consolas,\"Liberation Mono\",Menlo,Courier,monospace;font-size:10px}#chart-bf75bdb5-08cc-4cd5-b350-b22f6b7d074a .tooltip{font-family:Consolas,\"Liberation Mono\",Menlo,Courier,monospace;font-size:14px}#chart-bf75bdb5-08cc-4cd5-b350-b22f6b7d074a text.no_data{font-family:Consolas,\"Liberation Mono\",Menlo,Courier,monospace;font-size:64px}\n",
       "#chart-bf75bdb5-08cc-4cd5-b350-b22f6b7d074a{background-color:rgba(249,249,249,1)}#chart-bf75bdb5-08cc-4cd5-b350-b22f6b7d074a path,#chart-bf75bdb5-08cc-4cd5-b350-b22f6b7d074a line,#chart-bf75bdb5-08cc-4cd5-b350-b22f6b7d074a rect,#chart-bf75bdb5-08cc-4cd5-b350-b22f6b7d074a circle{-webkit-transition:150ms;-moz-transition:150ms;transition:150ms}#chart-bf75bdb5-08cc-4cd5-b350-b22f6b7d074a .graph &gt; .background{fill:rgba(249,249,249,1)}#chart-bf75bdb5-08cc-4cd5-b350-b22f6b7d074a .plot &gt; .background{fill:rgba(255,255,255,1)}#chart-bf75bdb5-08cc-4cd5-b350-b22f6b7d074a .graph{fill:rgba(0,0,0,.87)}#chart-bf75bdb5-08cc-4cd5-b350-b22f6b7d074a text.no_data{fill:rgba(0,0,0,1)}#chart-bf75bdb5-08cc-4cd5-b350-b22f6b7d074a .title{fill:rgba(0,0,0,1)}#chart-bf75bdb5-08cc-4cd5-b350-b22f6b7d074a .legends .legend text{fill:rgba(0,0,0,.87)}#chart-bf75bdb5-08cc-4cd5-b350-b22f6b7d074a .legends .legend:hover text{fill:rgba(0,0,0,1)}#chart-bf75bdb5-08cc-4cd5-b350-b22f6b7d074a .axis .line{stroke:rgba(0,0,0,1)}#chart-bf75bdb5-08cc-4cd5-b350-b22f6b7d074a .axis .guide.line{stroke:rgba(0,0,0,.54)}#chart-bf75bdb5-08cc-4cd5-b350-b22f6b7d074a .axis .major.line{stroke:rgba(0,0,0,.87)}#chart-bf75bdb5-08cc-4cd5-b350-b22f6b7d074a .axis text.major{fill:rgba(0,0,0,1)}#chart-bf75bdb5-08cc-4cd5-b350-b22f6b7d074a .axis.y .guides:hover .guide.line,#chart-bf75bdb5-08cc-4cd5-b350-b22f6b7d074a .line-graph .axis.x .guides:hover .guide.line,#chart-bf75bdb5-08cc-4cd5-b350-b22f6b7d074a .stackedline-graph .axis.x .guides:hover .guide.line,#chart-bf75bdb5-08cc-4cd5-b350-b22f6b7d074a .xy-graph .axis.x .guides:hover .guide.line{stroke:rgba(0,0,0,1)}#chart-bf75bdb5-08cc-4cd5-b350-b22f6b7d074a .axis .guides:hover text{fill:rgba(0,0,0,1)}#chart-bf75bdb5-08cc-4cd5-b350-b22f6b7d074a .reactive{fill-opacity:.7;stroke-opacity:.8;stroke-width:1}#chart-bf75bdb5-08cc-4cd5-b350-b22f6b7d074a .ci{stroke:rgba(0,0,0,.87)}#chart-bf75bdb5-08cc-4cd5-b350-b22f6b7d074a .reactive.active,#chart-bf75bdb5-08cc-4cd5-b350-b22f6b7d074a .active .reactive{fill-opacity:.8;stroke-opacity:.9;stroke-width:4}#chart-bf75bdb5-08cc-4cd5-b350-b22f6b7d074a .ci .reactive.active{stroke-width:1.5}#chart-bf75bdb5-08cc-4cd5-b350-b22f6b7d074a .series text{fill:rgba(0,0,0,1)}#chart-bf75bdb5-08cc-4cd5-b350-b22f6b7d074a .tooltip rect{fill:rgba(255,255,255,1);stroke:rgba(0,0,0,1);-webkit-transition:opacity 150ms;-moz-transition:opacity 150ms;transition:opacity 150ms}#chart-bf75bdb5-08cc-4cd5-b350-b22f6b7d074a .tooltip .label{fill:rgba(0,0,0,.87)}#chart-bf75bdb5-08cc-4cd5-b350-b22f6b7d074a .tooltip .label{fill:rgba(0,0,0,.87)}#chart-bf75bdb5-08cc-4cd5-b350-b22f6b7d074a .tooltip .legend{font-size:.8em;fill:rgba(0,0,0,.54)}#chart-bf75bdb5-08cc-4cd5-b350-b22f6b7d074a .tooltip .x_label{font-size:.6em;fill:rgba(0,0,0,1)}#chart-bf75bdb5-08cc-4cd5-b350-b22f6b7d074a .tooltip .xlink{font-size:.5em;text-decoration:underline}#chart-bf75bdb5-08cc-4cd5-b350-b22f6b7d074a .tooltip .value{font-size:1.5em}#chart-bf75bdb5-08cc-4cd5-b350-b22f6b7d074a .bound{font-size:.5em}#chart-bf75bdb5-08cc-4cd5-b350-b22f6b7d074a .max-value{font-size:.75em;fill:rgba(0,0,0,.54)}#chart-bf75bdb5-08cc-4cd5-b350-b22f6b7d074a .map-element{fill:rgba(255,255,255,1);stroke:rgba(0,0,0,.54) !important}#chart-bf75bdb5-08cc-4cd5-b350-b22f6b7d074a .map-element .reactive{fill-opacity:inherit;stroke-opacity:inherit}#chart-bf75bdb5-08cc-4cd5-b350-b22f6b7d074a .color-0,#chart-bf75bdb5-08cc-4cd5-b350-b22f6b7d074a .color-0 a:visited{stroke:#F44336;fill:#F44336}#chart-bf75bdb5-08cc-4cd5-b350-b22f6b7d074a .color-1,#chart-bf75bdb5-08cc-4cd5-b350-b22f6b7d074a .color-1 a:visited{stroke:#3F51B5;fill:#3F51B5}#chart-bf75bdb5-08cc-4cd5-b350-b22f6b7d074a .color-2,#chart-bf75bdb5-08cc-4cd5-b350-b22f6b7d074a .color-2 a:visited{stroke:#009688;fill:#009688}#chart-bf75bdb5-08cc-4cd5-b350-b22f6b7d074a .color-3,#chart-bf75bdb5-08cc-4cd5-b350-b22f6b7d074a .color-3 a:visited{stroke:#FFC107;fill:#FFC107}#chart-bf75bdb5-08cc-4cd5-b350-b22f6b7d074a .color-4,#chart-bf75bdb5-08cc-4cd5-b350-b22f6b7d074a .color-4 a:visited{stroke:#FF5722;fill:#FF5722}#chart-bf75bdb5-08cc-4cd5-b350-b22f6b7d074a .color-5,#chart-bf75bdb5-08cc-4cd5-b350-b22f6b7d074a .color-5 a:visited{stroke:#9C27B0;fill:#9C27B0}#chart-bf75bdb5-08cc-4cd5-b350-b22f6b7d074a .text-overlay .color-0 text{fill:black}#chart-bf75bdb5-08cc-4cd5-b350-b22f6b7d074a .text-overlay .color-1 text{fill:black}#chart-bf75bdb5-08cc-4cd5-b350-b22f6b7d074a .text-overlay .color-2 text{fill:black}#chart-bf75bdb5-08cc-4cd5-b350-b22f6b7d074a .text-overlay .color-3 text{fill:black}#chart-bf75bdb5-08cc-4cd5-b350-b22f6b7d074a .text-overlay .color-4 text{fill:black}#chart-bf75bdb5-08cc-4cd5-b350-b22f6b7d074a .text-overlay .color-5 text{fill:black}\n",
       "#chart-bf75bdb5-08cc-4cd5-b350-b22f6b7d074a text.no_data{text-anchor:middle}#chart-bf75bdb5-08cc-4cd5-b350-b22f6b7d074a .guide.line{fill:none}#chart-bf75bdb5-08cc-4cd5-b350-b22f6b7d074a .centered{text-anchor:middle}#chart-bf75bdb5-08cc-4cd5-b350-b22f6b7d074a .title{text-anchor:middle}#chart-bf75bdb5-08cc-4cd5-b350-b22f6b7d074a .legends .legend text{fill-opacity:1}#chart-bf75bdb5-08cc-4cd5-b350-b22f6b7d074a .axis.x text{text-anchor:middle}#chart-bf75bdb5-08cc-4cd5-b350-b22f6b7d074a .axis.x:not(.web) text[transform]{text-anchor:start}#chart-bf75bdb5-08cc-4cd5-b350-b22f6b7d074a .axis.x:not(.web) text[transform].backwards{text-anchor:end}#chart-bf75bdb5-08cc-4cd5-b350-b22f6b7d074a .axis.y text{text-anchor:end}#chart-bf75bdb5-08cc-4cd5-b350-b22f6b7d074a .axis.y text[transform].backwards{text-anchor:start}#chart-bf75bdb5-08cc-4cd5-b350-b22f6b7d074a .axis.y2 text{text-anchor:start}#chart-bf75bdb5-08cc-4cd5-b350-b22f6b7d074a .axis.y2 text[transform].backwards{text-anchor:end}#chart-bf75bdb5-08cc-4cd5-b350-b22f6b7d074a .axis .guide.line{stroke-dasharray:4,4;stroke:black}#chart-bf75bdb5-08cc-4cd5-b350-b22f6b7d074a .axis .major.guide.line{stroke-dasharray:6,6;stroke:black}#chart-bf75bdb5-08cc-4cd5-b350-b22f6b7d074a .horizontal .axis.y .guide.line,#chart-bf75bdb5-08cc-4cd5-b350-b22f6b7d074a .horizontal .axis.y2 .guide.line,#chart-bf75bdb5-08cc-4cd5-b350-b22f6b7d074a .vertical .axis.x .guide.line{opacity:0}#chart-bf75bdb5-08cc-4cd5-b350-b22f6b7d074a .horizontal .axis.always_show .guide.line,#chart-bf75bdb5-08cc-4cd5-b350-b22f6b7d074a .vertical .axis.always_show .guide.line{opacity:1 !important}#chart-bf75bdb5-08cc-4cd5-b350-b22f6b7d074a .axis.y .guides:hover .guide.line,#chart-bf75bdb5-08cc-4cd5-b350-b22f6b7d074a .axis.y2 .guides:hover .guide.line,#chart-bf75bdb5-08cc-4cd5-b350-b22f6b7d074a .axis.x .guides:hover .guide.line{opacity:1}#chart-bf75bdb5-08cc-4cd5-b350-b22f6b7d074a .axis .guides:hover text{opacity:1}#chart-bf75bdb5-08cc-4cd5-b350-b22f6b7d074a .nofill{fill:none}#chart-bf75bdb5-08cc-4cd5-b350-b22f6b7d074a .subtle-fill{fill-opacity:.2}#chart-bf75bdb5-08cc-4cd5-b350-b22f6b7d074a .dot{stroke-width:1px;fill-opacity:1;stroke-opacity:1}#chart-bf75bdb5-08cc-4cd5-b350-b22f6b7d074a .dot.active{stroke-width:5px}#chart-bf75bdb5-08cc-4cd5-b350-b22f6b7d074a .dot.negative{fill:transparent}#chart-bf75bdb5-08cc-4cd5-b350-b22f6b7d074a text,#chart-bf75bdb5-08cc-4cd5-b350-b22f6b7d074a tspan{stroke:none !important}#chart-bf75bdb5-08cc-4cd5-b350-b22f6b7d074a .series text.active{opacity:1}#chart-bf75bdb5-08cc-4cd5-b350-b22f6b7d074a .tooltip rect{fill-opacity:.95;stroke-width:.5}#chart-bf75bdb5-08cc-4cd5-b350-b22f6b7d074a .tooltip text{fill-opacity:1}#chart-bf75bdb5-08cc-4cd5-b350-b22f6b7d074a .showable{visibility:hidden}#chart-bf75bdb5-08cc-4cd5-b350-b22f6b7d074a .showable.shown{visibility:visible}#chart-bf75bdb5-08cc-4cd5-b350-b22f6b7d074a .gauge-background{fill:rgba(229,229,229,1);stroke:none}#chart-bf75bdb5-08cc-4cd5-b350-b22f6b7d074a .bg-lines{stroke:rgba(249,249,249,1);stroke-width:2px}</style><script type=\"text/javascript\">window.pygal = window.pygal || {};window.pygal.config = window.pygal.config || {};window.pygal.config['bf75bdb5-08cc-4cd5-b350-b22f6b7d074a'] = {\"allow_interruptions\": false, \"box_mode\": \"extremes\", \"classes\": [\"pygal-chart\"], \"css\": [\"file://style.css\", \"file://graph.css\"], \"defs\": [], \"disable_xml_declaration\": false, \"dots_size\": 2.5, \"dynamic_print_values\": false, \"explicit_size\": false, \"fill\": false, \"force_uri_protocol\": \"https\", \"formatter\": null, \"half_pie\": false, \"height\": 600, \"include_x_axis\": false, \"inner_radius\": 0.4, \"interpolate\": null, \"interpolation_parameters\": {}, \"interpolation_precision\": 250, \"inverse_y_axis\": false, \"js\": [\"//kozea.github.io/pygal.js/2.0.x/pygal-tooltips.min.js\"], \"legend_at_bottom\": false, \"legend_at_bottom_columns\": null, \"legend_box_size\": 12, \"logarithmic\": false, \"margin\": 20, \"margin_bottom\": null, \"margin_left\": null, \"margin_right\": null, \"margin_top\": null, \"max_scale\": 16, \"min_scale\": 4, \"missing_value_fill_truncation\": \"x\", \"no_data_text\": \"No data\", \"no_prefix\": false, \"order_min\": null, \"pretty_print\": false, \"print_labels\": false, \"print_values\": false, \"print_values_position\": \"center\", \"print_zeroes\": true, \"range\": null, \"rounded_bars\": null, \"secondary_range\": null, \"show_dots\": true, \"show_legend\": true, \"show_minor_x_labels\": true, \"show_minor_y_labels\": true, \"show_only_major_dots\": false, \"show_x_guides\": false, \"show_x_labels\": true, \"show_y_guides\": true, \"show_y_labels\": true, \"spacing\": 10, \"stack_from_top\": false, \"strict\": false, \"stroke\": true, \"stroke_style\": null, \"style\": {\"background\": \"rgba(249, 249, 249, 1)\", \"ci_colors\": [], \"colors\": [\"#F44336\", \"#3F51B5\", \"#009688\", \"#FFC107\", \"#FF5722\", \"#9C27B0\", \"#03A9F4\", \"#8BC34A\", \"#FF9800\", \"#E91E63\", \"#2196F3\", \"#4CAF50\", \"#FFEB3B\", \"#673AB7\", \"#00BCD4\", \"#CDDC39\", \"#9E9E9E\", \"#607D8B\"], \"dot_opacity\": \"1\", \"font_family\": \"Consolas, \\\"Liberation Mono\\\", Menlo, Courier, monospace\", \"foreground\": \"rgba(0, 0, 0, .87)\", \"foreground_strong\": \"rgba(0, 0, 0, 1)\", \"foreground_subtle\": \"rgba(0, 0, 0, .54)\", \"guide_stroke_color\": \"black\", \"guide_stroke_dasharray\": \"4,4\", \"label_font_family\": \"Consolas, \\\"Liberation Mono\\\", Menlo, Courier, monospace\", \"label_font_size\": 10, \"legend_font_family\": \"Consolas, \\\"Liberation Mono\\\", Menlo, Courier, monospace\", \"legend_font_size\": 14, \"major_guide_stroke_color\": \"black\", \"major_guide_stroke_dasharray\": \"6,6\", \"major_label_font_family\": \"Consolas, \\\"Liberation Mono\\\", Menlo, Courier, monospace\", \"major_label_font_size\": 10, \"no_data_font_family\": \"Consolas, \\\"Liberation Mono\\\", Menlo, Courier, monospace\", \"no_data_font_size\": 64, \"opacity\": \".7\", \"opacity_hover\": \".8\", \"plot_background\": \"rgba(255, 255, 255, 1)\", \"stroke_opacity\": \".8\", \"stroke_opacity_hover\": \".9\", \"stroke_width\": \"1\", \"stroke_width_hover\": \"4\", \"title_font_family\": \"Consolas, \\\"Liberation Mono\\\", Menlo, Courier, monospace\", \"title_font_size\": 16, \"tooltip_font_family\": \"Consolas, \\\"Liberation Mono\\\", Menlo, Courier, monospace\", \"tooltip_font_size\": 14, \"transition\": \"150ms\", \"value_background\": \"rgba(229, 229, 229, 1)\", \"value_colors\": [], \"value_font_family\": \"Consolas, \\\"Liberation Mono\\\", Menlo, Courier, monospace\", \"value_font_size\": 16, \"value_label_font_family\": \"Consolas, \\\"Liberation Mono\\\", Menlo, Courier, monospace\", \"value_label_font_size\": 10}, \"title\": \"Percentage of accidents leading to injuries caused by level of sobreity of people in fault\", \"tooltip_border_radius\": 0, \"tooltip_fancy_mode\": true, \"truncate_label\": null, \"truncate_legend\": null, \"width\": 800, \"x_label_rotation\": 0, \"x_labels\": null, \"x_labels_major\": null, \"x_labels_major_count\": null, \"x_labels_major_every\": null, \"x_title\": null, \"xrange\": null, \"y_label_rotation\": 0, \"y_labels\": null, \"y_labels_major\": null, \"y_labels_major_count\": null, \"y_labels_major_every\": null, \"y_title\": null, \"zero\": 0, \"legends\": [\"had been drinking, impairment unknown\", \"had been drinking, not under influence\", \"had been drinking, under influence\", \"had not been drinking\", \"impairment unknown\", \"not applicable\"]}</script><script type=\"text/javascript\" xlink:href=\"https://kozea.github.io/pygal.js/2.0.x/pygal-tooltips.min.js\"/></defs><title>Percentage of accidents leading to injuries caused by level of sobreity of people in fault</title><g class=\"graph pie-graph vertical\"><rect x=\"0\" y=\"0\" width=\"800\" height=\"600\" class=\"background\"/><g transform=\"translate(168, 72)\" class=\"plot\"><rect x=\"0\" y=\"0\" width=\"612.0\" height=\"508\" class=\"background\"/><g class=\"series serie-0 color-0\"><g class=\"slices\"><g class=\"slice\"><path d=\"M306.000000 25.400000 A228.600000 228.600000 0 0 1 322.093960 25.967229 L313.152871 152.652102 A101.600000 101.600000 0 0 0 306.000000 152.400000 z\" class=\"slice reactive tooltip-trigger\"/><desc class=\"value\">5304</desc><desc class=\"x centered\">311.8153164278017</desc><desc class=\"y centered\">89.00244821560369</desc></g></g></g><g class=\"series serie-1 color-1\"><g class=\"slices\"><g class=\"slice\"><path d=\"M322.093960 25.967229 A228.600000 228.600000 0 0 1 343.588329 28.511469 L322.705924 153.782875 A101.600000 101.600000 0 0 0 313.152871 152.652102 z\" class=\"slice reactive tooltip-trigger\"/><desc class=\"value\">7130</desc><desc class=\"x centered\">325.40703063499103</desc><desc class=\"y centered\">90.0445878845943</desc></g></g></g><g class=\"series serie-2 color-2\"><g class=\"slices\"><g class=\"slice\"><path d=\"M343.588329 28.511469 A228.600000 228.600000 0 0 1 490.739193 119.354575 L388.106308 194.157589 A101.600000 101.600000 0 0 0 322.705924 153.782875 z\" class=\"slice reactive tooltip-trigger\"/><desc class=\"value\">58399</desc><desc class=\"x centered\">392.7283320589149</desc><desc class=\"y centered\">113.51439070752264</desc></g></g></g><g class=\"series serie-3 color-3\"><g class=\"slices\"><g class=\"slice\"><path d=\"M490.739193 119.354575 A228.600000 228.600000 0 1 1 252.562120 31.733599 L282.249831 155.214933 A101.600000 101.600000 0 1 0 388.106308 194.157589 z\" class=\"slice reactive tooltip-trigger\"/><desc class=\"value\">384380</desc><desc class=\"x centered\">248.9976414394029</desc><desc class=\"y centered\">408.9475431187249</desc></g></g></g><g class=\"series serie-4 color-4\"><g class=\"slices\"><g class=\"slice\"><path d=\"M252.562120 31.733599 A228.600000 228.600000 0 0 1 294.516551 25.688611 L300.896245 152.528272 A101.600000 101.600000 0 0 0 282.249831 155.214933 z\" class=\"slice reactive tooltip-trigger\"/><desc class=\"value\">13978</desc><desc class=\"x centered\">282.4547778973134</desc><desc class=\"y centered\">90.5875386754879</desc></g></g></g><g class=\"series serie-5 color-5\"><g class=\"slices\"><g class=\"slice\"><path d=\"M294.516551 25.688611 A228.600000 228.600000 0 0 1 306.000000 25.400000 L306.000000 152.400000 A101.600000 101.600000 0 0 0 300.896245 152.528272 z\" class=\"slice reactive tooltip-trigger\"/><desc class=\"value\">3783</desc><desc class=\"x centered\">301.851889498143</desc><desc class=\"y centered\">88.95211852536735</desc></g></g></g></g><g class=\"titles\"><text x=\"400.0\" y=\"26\" class=\"title plot_title\">Percentage of accidents leading to injuries caused by level of sobreity of</text><text x=\"400.0\" y=\"52\" class=\"title plot_title\">people in fault</text></g><g transform=\"translate(168, 72)\" class=\"plot overlay\"><g class=\"series serie-0 color-0\"/><g class=\"series serie-1 color-1\"/><g class=\"series serie-2 color-2\"/><g class=\"series serie-3 color-3\"/><g class=\"series serie-4 color-4\"/><g class=\"series serie-5 color-5\"/></g><g transform=\"translate(168, 72)\" class=\"plot text-overlay\"><g class=\"series serie-0 color-0\"/><g class=\"series serie-1 color-1\"/><g class=\"series serie-2 color-2\"/><g class=\"series serie-3 color-3\"/><g class=\"series serie-4 color-4\"/><g class=\"series serie-5 color-5\"/></g><g transform=\"translate(168, 72)\" class=\"plot tooltip-overlay\"><g transform=\"translate(0 0)\" style=\"opacity: 0\" class=\"tooltip\"><rect rx=\"0\" ry=\"0\" width=\"0\" height=\"0\" class=\"tooltip-box\"/><g class=\"text\"/></g></g><g transform=\"translate(10, 82)\" class=\"legends\"><g id=\"activate-serie-0\" class=\"legend reactive activate-serie\"><rect x=\"0.0\" y=\"1.0\" width=\"12\" height=\"12\" class=\"color-0 reactive\"/><text x=\"17.0\" y=\"11.2\">had been drink…</text><title>had been drinking, impairment unknown</title></g><g id=\"activate-serie-1\" class=\"legend reactive activate-serie\"><rect x=\"0.0\" y=\"22.0\" width=\"12\" height=\"12\" class=\"color-1 reactive\"/><text x=\"17.0\" y=\"32.2\">had been drink…</text><title>had been drinking, not under influence</title></g><g id=\"activate-serie-2\" class=\"legend reactive activate-serie\"><rect x=\"0.0\" y=\"43.0\" width=\"12\" height=\"12\" class=\"color-2 reactive\"/><text x=\"17.0\" y=\"53.2\">had been drink…</text><title>had been drinking, under influence</title></g><g id=\"activate-serie-3\" class=\"legend reactive activate-serie\"><rect x=\"0.0\" y=\"64.0\" width=\"12\" height=\"12\" class=\"color-3 reactive\"/><text x=\"17.0\" y=\"74.2\">had not been d…</text><title>had not been drinking</title></g><g id=\"activate-serie-4\" class=\"legend reactive activate-serie\"><rect x=\"0.0\" y=\"85.0\" width=\"12\" height=\"12\" class=\"color-4 reactive\"/><text x=\"17.0\" y=\"95.2\">impairment unk…</text><title>impairment unknown</title></g><g id=\"activate-serie-5\" class=\"legend reactive activate-serie\"><rect x=\"0.0\" y=\"106.0\" width=\"12\" height=\"12\" class=\"color-5 reactive\"/><text x=\"17.0\" y=\"116.2\">not applicable</text></g></g><g transform=\"translate(790, 82)\" class=\"legends\"/></g></svg> \n",
       "    </figure> \n",
       "  </body> \n",
       "</html> \n"
      ],
      "text/plain": [
       "<IPython.core.display.HTML object>"
      ]
     },
     "metadata": {},
     "output_type": "display_data"
    }
   ],
   "source": [
    "sbr=data[data['at_fault']==1].groupby('party_sobriety').sum()\n",
    "sbrr=sbr['party_number_injured'].values\n",
    "\n",
    "t=[]\n",
    "for i in sbrr:\n",
    "    t.append(i*100/sum(sbrr))\n",
    "\n",
    "pie_chart = pygal.Pie(inner_radius=.4)\n",
    "pie_chart.title = 'Percentage of accidents leading to injuries caused by level of sobreity of people in fault'\n",
    "for i in range(6):\n",
    "    pie_chart.add(sbr.index[i],sbrr[i])\n",
    "display(HTML(base_html.format(rendered_chart=pie_chart.render(is_unicode=True)))) "
   ]
  },
  {
   "cell_type": "markdown",
   "id": "bd2f3b65",
   "metadata": {},
   "source": [
    "## Clean data"
   ]
  },
  {
   "cell_type": "code",
   "execution_count": 13,
   "id": "fb9d3d24",
   "metadata": {},
   "outputs": [],
   "source": [
    "# drop duplicate values\n",
    "parties = parties.drop_duplicates()"
   ]
  },
  {
   "cell_type": "code",
   "execution_count": 14,
   "id": "2a196804",
   "metadata": {},
   "outputs": [
    {
     "data": {
      "text/plain": [
       "id                                     0\n",
       "case_id                                0\n",
       "party_number                           0\n",
       "party_type                         43867\n",
       "at_fault                               0\n",
       "party_sex                        2499043\n",
       "party_age                        2914711\n",
       "party_sobriety                    556035\n",
       "party_drug_physical             15645799\n",
       "direction_of_travel               525943\n",
       "party_safety_equipment_1         3151014\n",
       "party_safety_equipment_2         7002624\n",
       "financial_responsibility         1528462\n",
       "hazardous_materials             18634366\n",
       "cellphone_in_use                 5685173\n",
       "cellphone_use_type               4322417\n",
       "school_bus_related              18616718\n",
       "oaf_violation_code              18589014\n",
       "oaf_violation_category          17385334\n",
       "oaf_violation_section           16418407\n",
       "oaf_violation_suffix            18254828\n",
       "other_associate_factor_1         1124874\n",
       "other_associate_factor_2        18299563\n",
       "party_number_killed                    0\n",
       "party_number_injured                   0\n",
       "movement_preceding_collision      333772\n",
       "vehicle_year                     1777184\n",
       "vehicle_make                     1949861\n",
       "statewide_vehicle_type           2103013\n",
       "chp_vehicle_type_towing          4008914\n",
       "chp_vehicle_type_towed           9098872\n",
       "party_race                       4374129\n",
       "dtype: int64"
      ]
     },
     "execution_count": 14,
     "metadata": {},
     "output_type": "execute_result"
    }
   ],
   "source": [
    "# check missing values\n",
    "parties.isnull().sum()"
   ]
  },
  {
   "cell_type": "code",
   "execution_count": 15,
   "id": "89984f55",
   "metadata": {},
   "outputs": [
    {
     "data": {
      "text/html": [
       "<div>\n",
       "<style scoped>\n",
       "    .dataframe tbody tr th:only-of-type {\n",
       "        vertical-align: middle;\n",
       "    }\n",
       "\n",
       "    .dataframe tbody tr th {\n",
       "        vertical-align: top;\n",
       "    }\n",
       "\n",
       "    .dataframe thead th {\n",
       "        text-align: right;\n",
       "    }\n",
       "</style>\n",
       "<table border=\"1\" class=\"dataframe\">\n",
       "  <thead>\n",
       "    <tr style=\"text-align: right;\">\n",
       "      <th></th>\n",
       "      <th>missing percentage of parties</th>\n",
       "    </tr>\n",
       "  </thead>\n",
       "  <tbody>\n",
       "    <tr>\n",
       "      <th>id</th>\n",
       "      <td>0.0 %</td>\n",
       "    </tr>\n",
       "    <tr>\n",
       "      <th>case_id</th>\n",
       "      <td>0.0 %</td>\n",
       "    </tr>\n",
       "    <tr>\n",
       "      <th>party_number</th>\n",
       "      <td>0.0 %</td>\n",
       "    </tr>\n",
       "    <tr>\n",
       "      <th>party_type</th>\n",
       "      <td>0.235 %</td>\n",
       "    </tr>\n",
       "    <tr>\n",
       "      <th>at_fault</th>\n",
       "      <td>0.0 %</td>\n",
       "    </tr>\n",
       "    <tr>\n",
       "      <th>party_sex</th>\n",
       "      <td>13.386 %</td>\n",
       "    </tr>\n",
       "    <tr>\n",
       "      <th>party_age</th>\n",
       "      <td>15.612 %</td>\n",
       "    </tr>\n",
       "    <tr>\n",
       "      <th>party_sobriety</th>\n",
       "      <td>2.978 %</td>\n",
       "    </tr>\n",
       "    <tr>\n",
       "      <th>party_drug_physical</th>\n",
       "      <td>83.806 %</td>\n",
       "    </tr>\n",
       "    <tr>\n",
       "      <th>direction_of_travel</th>\n",
       "      <td>2.817 %</td>\n",
       "    </tr>\n",
       "    <tr>\n",
       "      <th>party_safety_equipment_1</th>\n",
       "      <td>16.878 %</td>\n",
       "    </tr>\n",
       "    <tr>\n",
       "      <th>party_safety_equipment_2</th>\n",
       "      <td>37.509 %</td>\n",
       "    </tr>\n",
       "    <tr>\n",
       "      <th>financial_responsibility</th>\n",
       "      <td>8.187 %</td>\n",
       "    </tr>\n",
       "    <tr>\n",
       "      <th>hazardous_materials</th>\n",
       "      <td>99.814 %</td>\n",
       "    </tr>\n",
       "    <tr>\n",
       "      <th>cellphone_in_use</th>\n",
       "      <td>30.452 %</td>\n",
       "    </tr>\n",
       "    <tr>\n",
       "      <th>cellphone_use_type</th>\n",
       "      <td>23.153 %</td>\n",
       "    </tr>\n",
       "    <tr>\n",
       "      <th>school_bus_related</th>\n",
       "      <td>99.719 %</td>\n",
       "    </tr>\n",
       "    <tr>\n",
       "      <th>oaf_violation_code</th>\n",
       "      <td>99.571 %</td>\n",
       "    </tr>\n",
       "    <tr>\n",
       "      <th>oaf_violation_category</th>\n",
       "      <td>93.123 %</td>\n",
       "    </tr>\n",
       "    <tr>\n",
       "      <th>oaf_violation_section</th>\n",
       "      <td>87.944 %</td>\n",
       "    </tr>\n",
       "    <tr>\n",
       "      <th>oaf_violation_suffix</th>\n",
       "      <td>97.781 %</td>\n",
       "    </tr>\n",
       "    <tr>\n",
       "      <th>other_associate_factor_1</th>\n",
       "      <td>6.025 %</td>\n",
       "    </tr>\n",
       "    <tr>\n",
       "      <th>other_associate_factor_2</th>\n",
       "      <td>98.02 %</td>\n",
       "    </tr>\n",
       "    <tr>\n",
       "      <th>party_number_killed</th>\n",
       "      <td>0.0 %</td>\n",
       "    </tr>\n",
       "    <tr>\n",
       "      <th>party_number_injured</th>\n",
       "      <td>0.0 %</td>\n",
       "    </tr>\n",
       "    <tr>\n",
       "      <th>movement_preceding_collision</th>\n",
       "      <td>1.788 %</td>\n",
       "    </tr>\n",
       "    <tr>\n",
       "      <th>vehicle_year</th>\n",
       "      <td>9.519 %</td>\n",
       "    </tr>\n",
       "    <tr>\n",
       "      <th>vehicle_make</th>\n",
       "      <td>10.444 %</td>\n",
       "    </tr>\n",
       "    <tr>\n",
       "      <th>statewide_vehicle_type</th>\n",
       "      <td>11.265 %</td>\n",
       "    </tr>\n",
       "    <tr>\n",
       "      <th>chp_vehicle_type_towing</th>\n",
       "      <td>21.473 %</td>\n",
       "    </tr>\n",
       "    <tr>\n",
       "      <th>chp_vehicle_type_towed</th>\n",
       "      <td>48.737 %</td>\n",
       "    </tr>\n",
       "    <tr>\n",
       "      <th>party_race</th>\n",
       "      <td>23.43 %</td>\n",
       "    </tr>\n",
       "  </tbody>\n",
       "</table>\n",
       "</div>"
      ],
      "text/plain": [
       "                             missing percentage of parties\n",
       "id                                                   0.0 %\n",
       "case_id                                              0.0 %\n",
       "party_number                                         0.0 %\n",
       "party_type                                         0.235 %\n",
       "at_fault                                             0.0 %\n",
       "party_sex                                         13.386 %\n",
       "party_age                                         15.612 %\n",
       "party_sobriety                                     2.978 %\n",
       "party_drug_physical                               83.806 %\n",
       "direction_of_travel                                2.817 %\n",
       "party_safety_equipment_1                          16.878 %\n",
       "party_safety_equipment_2                          37.509 %\n",
       "financial_responsibility                           8.187 %\n",
       "hazardous_materials                               99.814 %\n",
       "cellphone_in_use                                  30.452 %\n",
       "cellphone_use_type                                23.153 %\n",
       "school_bus_related                                99.719 %\n",
       "oaf_violation_code                                99.571 %\n",
       "oaf_violation_category                            93.123 %\n",
       "oaf_violation_section                             87.944 %\n",
       "oaf_violation_suffix                              97.781 %\n",
       "other_associate_factor_1                           6.025 %\n",
       "other_associate_factor_2                           98.02 %\n",
       "party_number_killed                                  0.0 %\n",
       "party_number_injured                                 0.0 %\n",
       "movement_preceding_collision                       1.788 %\n",
       "vehicle_year                                       9.519 %\n",
       "vehicle_make                                      10.444 %\n",
       "statewide_vehicle_type                            11.265 %\n",
       "chp_vehicle_type_towing                           21.473 %\n",
       "chp_vehicle_type_towed                            48.737 %\n",
       "party_race                                         23.43 %"
      ]
     },
     "execution_count": 15,
     "metadata": {},
     "output_type": "execute_result"
    }
   ],
   "source": [
    "# How much percentage of values are missing from the total\n",
    "missing = round((parties.isnull().sum() * 100) / parties.shape[0], 3)\n",
    "missing_list_parties = []\n",
    "for i in range(0, len(missing)):\n",
    "    missing_list_parties.append(str(missing[i]) + ' %')\n",
    "missing_parties = pd.DataFrame(data = missing_list_parties, index = missing.index, columns = ['missing percentage of parties'])\n",
    "missing_parties"
   ]
  },
  {
   "cell_type": "code",
   "execution_count": 16,
   "id": "d387c001",
   "metadata": {},
   "outputs": [
    {
     "data": {
      "text/plain": [
       "['id',\n",
       " 'case_id',\n",
       " 'party_number',\n",
       " 'party_type',\n",
       " 'at_fault',\n",
       " 'party_sobriety',\n",
       " 'direction_of_travel',\n",
       " 'financial_responsibility',\n",
       " 'other_associate_factor_1',\n",
       " 'party_number_killed',\n",
       " 'party_number_injured',\n",
       " 'movement_preceding_collision',\n",
       " 'vehicle_year']"
      ]
     },
     "execution_count": 16,
     "metadata": {},
     "output_type": "execute_result"
    }
   ],
   "source": [
    "# Drop missing values with a missing percentage of less than 10%\n",
    "drop_index = []\n",
    "for i in range(len(missing)):\n",
    "    if missing[i] < 10:\n",
    "        drop_index.append(missing.index[i])\n",
    "drop_index"
   ]
  },
  {
   "cell_type": "code",
   "execution_count": 17,
   "id": "e5d7bb6f",
   "metadata": {},
   "outputs": [],
   "source": [
    "new_parties = parties.dropna(subset=drop_index)"
   ]
  },
  {
   "cell_type": "code",
   "execution_count": 18,
   "id": "e3e8f4df",
   "metadata": {},
   "outputs": [
    {
     "data": {
      "text/plain": [
       "(14871828, 32)"
      ]
     },
     "execution_count": 18,
     "metadata": {},
     "output_type": "execute_result"
    }
   ],
   "source": [
    "new_parties.shape"
   ]
  },
  {
   "cell_type": "code",
   "execution_count": 19,
   "id": "a3801093",
   "metadata": {},
   "outputs": [
    {
     "data": {
      "text/plain": [
       "id                                     0\n",
       "case_id                                0\n",
       "party_number                           0\n",
       "party_type                             0\n",
       "at_fault                               0\n",
       "party_sex                         881081\n",
       "party_age                         952343\n",
       "party_sobriety                         0\n",
       "party_drug_physical             13590255\n",
       "direction_of_travel                    0\n",
       "party_safety_equipment_1         1133838\n",
       "party_safety_equipment_2         4263015\n",
       "financial_responsibility               0\n",
       "hazardous_materials             14847154\n",
       "cellphone_in_use                 3551637\n",
       "cellphone_use_type               2468878\n",
       "school_bus_related              14840427\n",
       "oaf_violation_code              14802886\n",
       "oaf_violation_category          13876310\n",
       "oaf_violation_section           13114663\n",
       "oaf_violation_suffix            14579440\n",
       "other_associate_factor_1               0\n",
       "other_associate_factor_2        14574908\n",
       "party_number_killed                    0\n",
       "party_number_injured                   0\n",
       "movement_preceding_collision           0\n",
       "vehicle_year                           0\n",
       "vehicle_make                      380056\n",
       "statewide_vehicle_type           1075651\n",
       "chp_vehicle_type_towing          2704964\n",
       "chp_vehicle_type_towed           7058648\n",
       "party_race                       2418770\n",
       "dtype: int64"
      ]
     },
     "execution_count": 19,
     "metadata": {},
     "output_type": "execute_result"
    }
   ],
   "source": [
    "new_parties.isnull().sum()"
   ]
  },
  {
   "cell_type": "code",
   "execution_count": 20,
   "id": "949ede6b",
   "metadata": {},
   "outputs": [],
   "source": [
    "# Save cleaned data\n",
    "with open('/Users/sunhe/Desktop/NUS_Semester1/DSA5104/project/data/clean_data/clean_parties.csv',\n",
    "          'a', encoding='utf8', newline=\"\") as f:\n",
    "    new_parties.to_csv(f, header=True, index=0)"
   ]
  }
 ],
 "metadata": {
  "kernelspec": {
   "display_name": "Python 3 (ipykernel)",
   "language": "python",
   "name": "python3"
  },
  "language_info": {
   "codemirror_mode": {
    "name": "ipython",
    "version": 3
   },
   "file_extension": ".py",
   "mimetype": "text/x-python",
   "name": "python",
   "nbconvert_exporter": "python",
   "pygments_lexer": "ipython3",
   "version": "3.10.9"
  }
 },
 "nbformat": 4,
 "nbformat_minor": 5
}

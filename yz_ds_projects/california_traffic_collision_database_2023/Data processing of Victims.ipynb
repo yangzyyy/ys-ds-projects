{
 "cells": [
  {
   "cell_type": "markdown",
   "id": "5b3bab7d",
   "metadata": {},
   "source": [
    "# California Traffic Collision Data from SWITRS"
   ]
  },
  {
   "cell_type": "markdown",
   "id": "8542e892",
   "metadata": {},
   "source": [
    "Table `victims` contains information about the injuries of specific people involved in the collision.  "
   ]
  },
  {
   "cell_type": "code",
   "execution_count": 1,
   "id": "7f715940",
   "metadata": {},
   "outputs": [
    {
     "data": {
      "text/html": [
       "        <script type=\"text/javascript\">\n",
       "        window.PlotlyConfig = {MathJaxConfig: 'local'};\n",
       "        if (window.MathJax && window.MathJax.Hub && window.MathJax.Hub.Config) {window.MathJax.Hub.Config({SVG: {font: \"STIX-Web\"}});}\n",
       "        if (typeof require !== 'undefined') {\n",
       "        require.undef(\"plotly\");\n",
       "        requirejs.config({\n",
       "            paths: {\n",
       "                'plotly': ['https://cdn.plot.ly/plotly-2.12.1.min']\n",
       "            }\n",
       "        });\n",
       "        require(['plotly'], function(Plotly) {\n",
       "            window._Plotly = Plotly;\n",
       "        });\n",
       "        }\n",
       "        </script>\n",
       "        "
      ]
     },
     "metadata": {},
     "output_type": "display_data"
    }
   ],
   "source": [
    "import pandas as pd\n",
    "import numpy as np\n",
    "import sqlite3\n",
    "import plotly.express as px\n",
    "import folium\n",
    "from folium import plugins\n",
    "from folium.plugins import HeatMap\n",
    "import pygal \n",
    "import matplotlib.pyplot as plt\n",
    "import seaborn as sns\n",
    "import plotly\n",
    "import plotly.graph_objects as go\n",
    "from pygal.style import Style\n",
    "from IPython.display import display, HTML\n",
    "plotly.offline.init_notebook_mode (connected = True)"
   ]
  },
  {
   "cell_type": "markdown",
   "id": "dcfed094",
   "metadata": {},
   "source": [
    "## Import and View data"
   ]
  },
  {
   "cell_type": "code",
   "execution_count": 2,
   "id": "ac309068",
   "metadata": {},
   "outputs": [],
   "source": [
    "# Create a SQL connection to SQLite database\n",
    "con = sqlite3.connect('/Users/sunhe/Desktop/NUS_Semester1/DSA5104/project/data/switrs.sqlite')"
   ]
  },
  {
   "cell_type": "code",
   "execution_count": 3,
   "id": "fdb3151b",
   "metadata": {},
   "outputs": [],
   "source": [
    "# check attributes in the table\n",
    "victims = pd.read_sql_query(\n",
    "    \"\"\"\n",
    "    SELECT * \n",
    "    FROM victims;\n",
    "    \"\"\", con)"
   ]
  },
  {
   "cell_type": "code",
   "execution_count": 4,
   "id": "c0c2fba1",
   "metadata": {},
   "outputs": [
    {
     "data": {
      "text/plain": [
       "(9639334, 11)"
      ]
     },
     "execution_count": 4,
     "metadata": {},
     "output_type": "execute_result"
    }
   ],
   "source": [
    "victims.shape"
   ]
  },
  {
   "cell_type": "code",
   "execution_count": 5,
   "id": "24a9fee7",
   "metadata": {},
   "outputs": [
    {
     "data": {
      "text/html": [
       "<div>\n",
       "<style scoped>\n",
       "    .dataframe tbody tr th:only-of-type {\n",
       "        vertical-align: middle;\n",
       "    }\n",
       "\n",
       "    .dataframe tbody tr th {\n",
       "        vertical-align: top;\n",
       "    }\n",
       "\n",
       "    .dataframe thead th {\n",
       "        text-align: right;\n",
       "    }\n",
       "</style>\n",
       "<table border=\"1\" class=\"dataframe\">\n",
       "  <thead>\n",
       "    <tr style=\"text-align: right;\">\n",
       "      <th></th>\n",
       "      <th>id</th>\n",
       "      <th>case_id</th>\n",
       "      <th>party_number</th>\n",
       "      <th>victim_role</th>\n",
       "      <th>victim_sex</th>\n",
       "      <th>victim_age</th>\n",
       "      <th>victim_degree_of_injury</th>\n",
       "      <th>victim_seating_position</th>\n",
       "      <th>victim_safety_equipment_1</th>\n",
       "      <th>victim_safety_equipment_2</th>\n",
       "      <th>victim_ejected</th>\n",
       "    </tr>\n",
       "  </thead>\n",
       "  <tbody>\n",
       "    <tr>\n",
       "      <th>0</th>\n",
       "      <td>1</td>\n",
       "      <td>3858022</td>\n",
       "      <td>1</td>\n",
       "      <td>passenger</td>\n",
       "      <td>female</td>\n",
       "      <td>24.0</td>\n",
       "      <td>no injury</td>\n",
       "      <td>passenger seat 4</td>\n",
       "      <td>air bag not deployed</td>\n",
       "      <td>None</td>\n",
       "      <td>not ejected</td>\n",
       "    </tr>\n",
       "    <tr>\n",
       "      <th>1</th>\n",
       "      <td>2</td>\n",
       "      <td>3858022</td>\n",
       "      <td>1</td>\n",
       "      <td>passenger</td>\n",
       "      <td>male</td>\n",
       "      <td>31.0</td>\n",
       "      <td>no injury</td>\n",
       "      <td>passenger seat 6</td>\n",
       "      <td>air bag not deployed</td>\n",
       "      <td>None</td>\n",
       "      <td>not ejected</td>\n",
       "    </tr>\n",
       "    <tr>\n",
       "      <th>2</th>\n",
       "      <td>3</td>\n",
       "      <td>3899450</td>\n",
       "      <td>1</td>\n",
       "      <td>driver</td>\n",
       "      <td>female</td>\n",
       "      <td>72.0</td>\n",
       "      <td>complaint of pain</td>\n",
       "      <td>driver</td>\n",
       "      <td>air bag not deployed</td>\n",
       "      <td>lap/shoulder harness used</td>\n",
       "      <td>not ejected</td>\n",
       "    </tr>\n",
       "    <tr>\n",
       "      <th>3</th>\n",
       "      <td>4</td>\n",
       "      <td>3899453</td>\n",
       "      <td>2</td>\n",
       "      <td>driver</td>\n",
       "      <td>male</td>\n",
       "      <td>66.0</td>\n",
       "      <td>complaint of pain</td>\n",
       "      <td>driver</td>\n",
       "      <td>air bag deployed</td>\n",
       "      <td>lap/shoulder harness used</td>\n",
       "      <td>not ejected</td>\n",
       "    </tr>\n",
       "    <tr>\n",
       "      <th>4</th>\n",
       "      <td>5</td>\n",
       "      <td>3899453</td>\n",
       "      <td>3</td>\n",
       "      <td>passenger</td>\n",
       "      <td>male</td>\n",
       "      <td>65.0</td>\n",
       "      <td>no injury</td>\n",
       "      <td>passenger seat 3</td>\n",
       "      <td>air bag not deployed</td>\n",
       "      <td>lap/shoulder harness used</td>\n",
       "      <td>not ejected</td>\n",
       "    </tr>\n",
       "  </tbody>\n",
       "</table>\n",
       "</div>"
      ],
      "text/plain": [
       "   id  case_id  party_number victim_role victim_sex  victim_age  \\\n",
       "0   1  3858022             1   passenger     female        24.0   \n",
       "1   2  3858022             1   passenger       male        31.0   \n",
       "2   3  3899450             1      driver     female        72.0   \n",
       "3   4  3899453             2      driver       male        66.0   \n",
       "4   5  3899453             3   passenger       male        65.0   \n",
       "\n",
       "  victim_degree_of_injury victim_seating_position victim_safety_equipment_1  \\\n",
       "0               no injury        passenger seat 4      air bag not deployed   \n",
       "1               no injury        passenger seat 6      air bag not deployed   \n",
       "2       complaint of pain                  driver      air bag not deployed   \n",
       "3       complaint of pain                  driver          air bag deployed   \n",
       "4               no injury        passenger seat 3      air bag not deployed   \n",
       "\n",
       "   victim_safety_equipment_2 victim_ejected  \n",
       "0                       None    not ejected  \n",
       "1                       None    not ejected  \n",
       "2  lap/shoulder harness used    not ejected  \n",
       "3  lap/shoulder harness used    not ejected  \n",
       "4  lap/shoulder harness used    not ejected  "
      ]
     },
     "execution_count": 5,
     "metadata": {},
     "output_type": "execute_result"
    }
   ],
   "source": [
    "victims.head()"
   ]
  },
  {
   "cell_type": "markdown",
   "id": "408b41eb",
   "metadata": {},
   "source": [
    "## Analyze and visualize data"
   ]
  },
  {
   "cell_type": "markdown",
   "id": "64768307",
   "metadata": {},
   "source": [
    "### How many victims were recorded?"
   ]
  },
  {
   "cell_type": "code",
   "execution_count": 17,
   "id": "e51dcfc6",
   "metadata": {},
   "outputs": [
    {
     "data": {
      "text/html": [
       "<div>\n",
       "<style scoped>\n",
       "    .dataframe tbody tr th:only-of-type {\n",
       "        vertical-align: middle;\n",
       "    }\n",
       "\n",
       "    .dataframe tbody tr th {\n",
       "        vertical-align: top;\n",
       "    }\n",
       "\n",
       "    .dataframe thead th {\n",
       "        text-align: right;\n",
       "    }\n",
       "</style>\n",
       "<table border=\"1\" class=\"dataframe\">\n",
       "  <thead>\n",
       "    <tr style=\"text-align: right;\">\n",
       "      <th></th>\n",
       "      <th>Number_of_victims</th>\n",
       "    </tr>\n",
       "  </thead>\n",
       "  <tbody>\n",
       "    <tr>\n",
       "      <th>0</th>\n",
       "      <td>9639334</td>\n",
       "    </tr>\n",
       "  </tbody>\n",
       "</table>\n",
       "</div>"
      ],
      "text/plain": [
       "   Number_of_victims\n",
       "0            9639334"
      ]
     },
     "execution_count": 17,
     "metadata": {},
     "output_type": "execute_result"
    }
   ],
   "source": [
    "# Number of victims recorded\n",
    "df_total = pd.read_sql_query(\n",
    "    \"\"\"\n",
    "    SELECT COUNT(case_id) AS Number_of_victims\n",
    "    FROM victims;\n",
    "    \"\"\", con)\n",
    "df_total"
   ]
  },
  {
   "cell_type": "markdown",
   "id": "84c0d9f7",
   "metadata": {},
   "source": [
    "### Is victims' role relational to their degree of injury?"
   ]
  },
  {
   "cell_type": "code",
   "execution_count": 26,
   "id": "33b03e9a",
   "metadata": {},
   "outputs": [],
   "source": [
    "# victim_role vs victim_degree_of_injury\n",
    "query = \"\"\"\n",
    "        SELECT victim_role, \n",
    "               victim_degree_of_injury  \n",
    "        FROM victims\n",
    "        LIMIT 100000;\n",
    "        \"\"\"\n",
    "table = pd.read_sql_query(query, con)"
   ]
  },
  {
   "cell_type": "code",
   "execution_count": 1,
   "id": "5be9b504",
   "metadata": {},
   "outputs": [],
   "source": [
    "# sns.swarmplot(x='victim_role',y='victim_degree_of_injury',data=table)"
   ]
  },
  {
   "cell_type": "code",
   "execution_count": null,
   "id": "db86c25e",
   "metadata": {},
   "outputs": [],
   "source": []
  },
  {
   "cell_type": "code",
   "execution_count": null,
   "id": "f8c68214",
   "metadata": {},
   "outputs": [],
   "source": []
  },
  {
   "cell_type": "code",
   "execution_count": null,
   "id": "d9ecca71",
   "metadata": {},
   "outputs": [],
   "source": []
  },
  {
   "cell_type": "code",
   "execution_count": null,
   "id": "489d5e9b",
   "metadata": {},
   "outputs": [],
   "source": []
  },
  {
   "cell_type": "markdown",
   "id": "f37b4c6f",
   "metadata": {},
   "source": [
    "## Clean data"
   ]
  },
  {
   "cell_type": "code",
   "execution_count": 6,
   "id": "c0aa8cd1",
   "metadata": {},
   "outputs": [],
   "source": [
    "# drop duplicate values\n",
    "victims = victims.drop_duplicates() "
   ]
  },
  {
   "cell_type": "code",
   "execution_count": 7,
   "id": "9e475310",
   "metadata": {},
   "outputs": [
    {
     "data": {
      "text/plain": [
       "id                                 0\n",
       "case_id                            0\n",
       "party_number                       0\n",
       "victim_role                       13\n",
       "victim_sex                    239319\n",
       "victim_age                    322754\n",
       "victim_degree_of_injury            0\n",
       "victim_seating_position        19477\n",
       "victim_safety_equipment_1     550554\n",
       "victim_safety_equipment_2    3104718\n",
       "victim_ejected                 42865\n",
       "dtype: int64"
      ]
     },
     "execution_count": 7,
     "metadata": {},
     "output_type": "execute_result"
    }
   ],
   "source": [
    "# check missing values\n",
    "victims.isnull().sum()"
   ]
  },
  {
   "cell_type": "code",
   "execution_count": 8,
   "id": "b384d0da",
   "metadata": {},
   "outputs": [
    {
     "data": {
      "text/html": [
       "<div>\n",
       "<style scoped>\n",
       "    .dataframe tbody tr th:only-of-type {\n",
       "        vertical-align: middle;\n",
       "    }\n",
       "\n",
       "    .dataframe tbody tr th {\n",
       "        vertical-align: top;\n",
       "    }\n",
       "\n",
       "    .dataframe thead th {\n",
       "        text-align: right;\n",
       "    }\n",
       "</style>\n",
       "<table border=\"1\" class=\"dataframe\">\n",
       "  <thead>\n",
       "    <tr style=\"text-align: right;\">\n",
       "      <th></th>\n",
       "      <th>missing percentage of victims</th>\n",
       "    </tr>\n",
       "  </thead>\n",
       "  <tbody>\n",
       "    <tr>\n",
       "      <th>id</th>\n",
       "      <td>0.0 %</td>\n",
       "    </tr>\n",
       "    <tr>\n",
       "      <th>case_id</th>\n",
       "      <td>0.0 %</td>\n",
       "    </tr>\n",
       "    <tr>\n",
       "      <th>party_number</th>\n",
       "      <td>0.0 %</td>\n",
       "    </tr>\n",
       "    <tr>\n",
       "      <th>victim_role</th>\n",
       "      <td>0.0 %</td>\n",
       "    </tr>\n",
       "    <tr>\n",
       "      <th>victim_sex</th>\n",
       "      <td>2.483 %</td>\n",
       "    </tr>\n",
       "    <tr>\n",
       "      <th>victim_age</th>\n",
       "      <td>3.348 %</td>\n",
       "    </tr>\n",
       "    <tr>\n",
       "      <th>victim_degree_of_injury</th>\n",
       "      <td>0.0 %</td>\n",
       "    </tr>\n",
       "    <tr>\n",
       "      <th>victim_seating_position</th>\n",
       "      <td>0.202 %</td>\n",
       "    </tr>\n",
       "    <tr>\n",
       "      <th>victim_safety_equipment_1</th>\n",
       "      <td>5.712 %</td>\n",
       "    </tr>\n",
       "    <tr>\n",
       "      <th>victim_safety_equipment_2</th>\n",
       "      <td>32.209 %</td>\n",
       "    </tr>\n",
       "    <tr>\n",
       "      <th>victim_ejected</th>\n",
       "      <td>0.445 %</td>\n",
       "    </tr>\n",
       "  </tbody>\n",
       "</table>\n",
       "</div>"
      ],
      "text/plain": [
       "                          missing percentage of victims\n",
       "id                                                0.0 %\n",
       "case_id                                           0.0 %\n",
       "party_number                                      0.0 %\n",
       "victim_role                                       0.0 %\n",
       "victim_sex                                      2.483 %\n",
       "victim_age                                      3.348 %\n",
       "victim_degree_of_injury                           0.0 %\n",
       "victim_seating_position                         0.202 %\n",
       "victim_safety_equipment_1                       5.712 %\n",
       "victim_safety_equipment_2                      32.209 %\n",
       "victim_ejected                                  0.445 %"
      ]
     },
     "execution_count": 8,
     "metadata": {},
     "output_type": "execute_result"
    }
   ],
   "source": [
    "# How much percentage of values are missing from the total\n",
    "missing = round((victims.isnull().sum() * 100) / victims.shape[0], 3)\n",
    "missing_list_victims = []\n",
    "for i in range(0, len(missing)):\n",
    "    missing_list_victims.append(str(missing[i]) + ' %')\n",
    "missing_victims = pd.DataFrame(data = missing_list_victims, index = missing.index, columns = ['missing percentage of victims'])\n",
    "missing_victims"
   ]
  },
  {
   "cell_type": "code",
   "execution_count": 9,
   "id": "e8aa8b65",
   "metadata": {},
   "outputs": [
    {
     "data": {
      "text/plain": [
       "['id',\n",
       " 'case_id',\n",
       " 'party_number',\n",
       " 'victim_role',\n",
       " 'victim_sex',\n",
       " 'victim_age',\n",
       " 'victim_degree_of_injury',\n",
       " 'victim_seating_position',\n",
       " 'victim_safety_equipment_1',\n",
       " 'victim_ejected']"
      ]
     },
     "execution_count": 9,
     "metadata": {},
     "output_type": "execute_result"
    }
   ],
   "source": [
    "# Drop missing values with a missing percentage of less than 10%\n",
    "drop_index = []\n",
    "for i in range(len(missing)):\n",
    "    if missing[i] < 10:\n",
    "        drop_index.append(missing.index[i])\n",
    "drop_index"
   ]
  },
  {
   "cell_type": "code",
   "execution_count": 14,
   "id": "f7a0cde2",
   "metadata": {},
   "outputs": [],
   "source": [
    "new_victims = victims.dropna(subset=drop_index)"
   ]
  },
  {
   "cell_type": "code",
   "execution_count": 13,
   "id": "02632a01",
   "metadata": {},
   "outputs": [
    {
     "data": {
      "text/plain": [
       "(8663495, 11)"
      ]
     },
     "execution_count": 13,
     "metadata": {},
     "output_type": "execute_result"
    }
   ],
   "source": [
    "new_victims.shape"
   ]
  },
  {
   "cell_type": "code",
   "execution_count": 15,
   "id": "5dea4ae9",
   "metadata": {},
   "outputs": [
    {
     "data": {
      "text/plain": [
       "id                                 0\n",
       "case_id                            0\n",
       "party_number                       0\n",
       "victim_role                        0\n",
       "victim_sex                         0\n",
       "victim_age                         0\n",
       "victim_degree_of_injury            0\n",
       "victim_seating_position            0\n",
       "victim_safety_equipment_1          0\n",
       "victim_safety_equipment_2    2521933\n",
       "victim_ejected                     0\n",
       "dtype: int64"
      ]
     },
     "execution_count": 15,
     "metadata": {},
     "output_type": "execute_result"
    }
   ],
   "source": [
    "new_victims.isnull().sum()"
   ]
  },
  {
   "cell_type": "code",
   "execution_count": 16,
   "id": "5bdec867",
   "metadata": {},
   "outputs": [],
   "source": [
    "# Save cleaned data\n",
    "with open('/Users/sunhe/Desktop/NUS_Semester1/DSA5104/project/data/clean_data/clean_victims.csv',\n",
    "          'a', encoding='utf8', newline=\"\") as f:\n",
    "    new_victims.to_csv(f, header=True, index=0)"
   ]
  },
  {
   "cell_type": "markdown",
   "id": "6f31e1d1",
   "metadata": {},
   "source": [
    "## Generate data"
   ]
  },
  {
   "cell_type": "code",
   "execution_count": null,
   "id": "04a58738",
   "metadata": {},
   "outputs": [],
   "source": []
  },
  {
   "cell_type": "code",
   "execution_count": null,
   "id": "fbc087d7",
   "metadata": {},
   "outputs": [],
   "source": []
  },
  {
   "cell_type": "code",
   "execution_count": null,
   "id": "930a62d7",
   "metadata": {},
   "outputs": [],
   "source": []
  },
  {
   "cell_type": "code",
   "execution_count": null,
   "id": "c11262c3",
   "metadata": {},
   "outputs": [],
   "source": []
  }
 ],
 "metadata": {
  "kernelspec": {
   "display_name": "Python 3 (ipykernel)",
   "language": "python",
   "name": "python3"
  },
  "language_info": {
   "codemirror_mode": {
    "name": "ipython",
    "version": 3
   },
   "file_extension": ".py",
   "mimetype": "text/x-python",
   "name": "python",
   "nbconvert_exporter": "python",
   "pygments_lexer": "ipython3",
   "version": "3.10.9"
  }
 },
 "nbformat": 4,
 "nbformat_minor": 5
}
